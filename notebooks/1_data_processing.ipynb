{
 "cells": [
  {
   "cell_type": "markdown",
   "metadata": {},
   "source": [
    "# Data processing"
   ]
  },
  {
   "cell_type": "markdown",
   "metadata": {},
   "source": [
    "## Imports"
   ]
  },
  {
   "cell_type": "code",
   "execution_count": 3,
   "metadata": {},
   "outputs": [],
   "source": [
    "# Import libraries\n",
    "import matplotlib.pyplot as plt\n",
    "import numpy as np\n",
    "import pandas as pd\n",
    "import scipy.stats as sps\n",
    "from datetime import timedelta, date, datetime\n",
    "\n",
    "import warnings\n",
    "\n",
    "warnings.filterwarnings(\"ignore\")"
   ]
  },
  {
   "cell_type": "markdown",
   "metadata": {},
   "source": [
    "## Data"
   ]
  },
  {
   "cell_type": "code",
   "execution_count": 4,
   "metadata": {},
   "outputs": [],
   "source": [
    "# The dataframe is available on\n",
    "# https://github.com/owid/covid-19-data\n",
    "# https://www.kaggle.com/gpreda/covid-world-vaccination-progress\n",
    "# The original dataframe contains 104214 observations of 16 parameters.\n",
    "# For this project only 8 parameters were subsetted and used"
   ]
  },
  {
   "cell_type": "code",
   "execution_count": 5,
   "metadata": {},
   "outputs": [],
   "source": [
    "# Download data from Github\n",
    "data_table = pd.read_csv(\n",
    "    \"https://raw.githubusercontent.com/owid/covid-19-data/master/public/data/vaccinations/vaccinations.csv\"\n",
    ")"
   ]
  },
  {
   "cell_type": "code",
   "execution_count": 6,
   "metadata": {},
   "outputs": [],
   "source": [
    "data_table = data_table[\n",
    "    [\n",
    "        \"location\",\n",
    "        \"date\",\n",
    "        \"total_vaccinations\",\n",
    "        \"people_vaccinated\",\n",
    "        \"people_fully_vaccinated\",\n",
    "        \"total_vaccinations_per_hundred\",\n",
    "        \"people_vaccinated_per_hundred\",\n",
    "        \"people_fully_vaccinated_per_hundred\",\n",
    "    ]\n",
    "].rename(columns={\"location\": \"country\"})"
   ]
  },
  {
   "cell_type": "code",
   "execution_count": 7,
   "metadata": {},
   "outputs": [],
   "source": [
    "data_table = data_table[data_table[\"date\"] < \"2022-01-01\"]"
   ]
  },
  {
   "cell_type": "code",
   "execution_count": 8,
   "metadata": {},
   "outputs": [
    {
     "data": {
      "text/html": [
       "<div>\n",
       "<style scoped>\n",
       "    .dataframe tbody tr th:only-of-type {\n",
       "        vertical-align: middle;\n",
       "    }\n",
       "\n",
       "    .dataframe tbody tr th {\n",
       "        vertical-align: top;\n",
       "    }\n",
       "\n",
       "    .dataframe thead th {\n",
       "        text-align: right;\n",
       "    }\n",
       "</style>\n",
       "<table border=\"1\" class=\"dataframe\">\n",
       "  <thead>\n",
       "    <tr style=\"text-align: right;\">\n",
       "      <th></th>\n",
       "      <th>country</th>\n",
       "      <th>date</th>\n",
       "      <th>total_vaccinations</th>\n",
       "      <th>people_vaccinated</th>\n",
       "      <th>people_fully_vaccinated</th>\n",
       "      <th>total_vaccinations_per_hundred</th>\n",
       "      <th>people_vaccinated_per_hundred</th>\n",
       "      <th>people_fully_vaccinated_per_hundred</th>\n",
       "    </tr>\n",
       "  </thead>\n",
       "  <tbody>\n",
       "    <tr>\n",
       "      <th>0</th>\n",
       "      <td>Afghanistan</td>\n",
       "      <td>2021-02-22</td>\n",
       "      <td>0.0</td>\n",
       "      <td>0.0</td>\n",
       "      <td>NaN</td>\n",
       "      <td>0.0</td>\n",
       "      <td>0.0</td>\n",
       "      <td>NaN</td>\n",
       "    </tr>\n",
       "  </tbody>\n",
       "</table>\n",
       "</div>"
      ],
      "text/plain": [
       "       country        date  total_vaccinations  people_vaccinated  \\\n",
       "0  Afghanistan  2021-02-22                 0.0                0.0   \n",
       "\n",
       "   people_fully_vaccinated  total_vaccinations_per_hundred  \\\n",
       "0                      NaN                             0.0   \n",
       "\n",
       "   people_vaccinated_per_hundred  people_fully_vaccinated_per_hundred  \n",
       "0                            0.0                                  NaN  "
      ]
     },
     "execution_count": 8,
     "metadata": {},
     "output_type": "execute_result"
    }
   ],
   "source": [
    "data_table.head(1)"
   ]
  },
  {
   "cell_type": "code",
   "execution_count": 9,
   "metadata": {},
   "outputs": [
    {
     "data": {
      "text/plain": [
       "235"
      ]
     },
     "execution_count": 9,
     "metadata": {},
     "output_type": "execute_result"
    }
   ],
   "source": [
    "# List of all countries and continents\n",
    "countries = data_table.country.unique().tolist()\n",
    "len(countries)"
   ]
  },
  {
   "cell_type": "markdown",
   "metadata": {},
   "source": [
    "## Filtering"
   ]
  },
  {
   "cell_type": "markdown",
   "metadata": {},
   "source": [
    "### from countries with sparse data"
   ]
  },
  {
   "cell_type": "code",
   "execution_count": 10,
   "metadata": {},
   "outputs": [],
   "source": [
    "data_table[\"total\"] = np.nan"
   ]
  },
  {
   "cell_type": "code",
   "execution_count": 11,
   "metadata": {},
   "outputs": [],
   "source": [
    "# the main feature is people_fully_vaccinated_per_hundred\n",
    "nan_stats = (\n",
    "    data_table[[\"people_fully_vaccinated_per_hundred\", \"total\"]]\n",
    "    .isnull()\n",
    "    .groupby([data_table[\"country\"]])\n",
    "    .sum()\n",
    "    .astype(int)\n",
    "    # .reset_index(name=\"count\")\n",
    ")\n",
    "nan_stats[\"nan_ratio\"] = round(\n",
    "    nan_stats[\"people_fully_vaccinated_per_hundred\"] / nan_stats[\"total\"] * 100, 1\n",
    ")"
   ]
  },
  {
   "cell_type": "code",
   "execution_count": 12,
   "metadata": {},
   "outputs": [],
   "source": [
    "nan_stats = nan_stats[nan_stats[\"nan_ratio\"] < 60]"
   ]
  },
  {
   "cell_type": "code",
   "execution_count": 13,
   "metadata": {},
   "outputs": [
    {
     "data": {
      "text/html": [
       "<div>\n",
       "<style scoped>\n",
       "    .dataframe tbody tr th:only-of-type {\n",
       "        vertical-align: middle;\n",
       "    }\n",
       "\n",
       "    .dataframe tbody tr th {\n",
       "        vertical-align: top;\n",
       "    }\n",
       "\n",
       "    .dataframe thead th {\n",
       "        text-align: right;\n",
       "    }\n",
       "</style>\n",
       "<table border=\"1\" class=\"dataframe\">\n",
       "  <thead>\n",
       "    <tr style=\"text-align: right;\">\n",
       "      <th></th>\n",
       "      <th>people_fully_vaccinated_per_hundred</th>\n",
       "      <th>total</th>\n",
       "      <th>nan_ratio</th>\n",
       "    </tr>\n",
       "    <tr>\n",
       "      <th>country</th>\n",
       "      <th></th>\n",
       "      <th></th>\n",
       "      <th></th>\n",
       "    </tr>\n",
       "  </thead>\n",
       "  <tbody>\n",
       "    <tr>\n",
       "      <th>Serbia</th>\n",
       "      <td>180</td>\n",
       "      <td>358</td>\n",
       "      <td>50.3</td>\n",
       "    </tr>\n",
       "  </tbody>\n",
       "</table>\n",
       "</div>"
      ],
      "text/plain": [
       "         people_fully_vaccinated_per_hundred  total  nan_ratio\n",
       "country                                                       \n",
       "Serbia                                   180    358       50.3"
      ]
     },
     "execution_count": 13,
     "metadata": {},
     "output_type": "execute_result"
    }
   ],
   "source": [
    "nan_stats[nan_stats.index == \"Serbia\"]"
   ]
  },
  {
   "cell_type": "code",
   "execution_count": 14,
   "metadata": {},
   "outputs": [
    {
     "data": {
      "image/png": "[encoded data removed]",
      "text/plain": [
       "<Figure size 640x480 with 1 Axes>"
      ]
     },
     "metadata": {},
     "output_type": "display_data"
    }
   ],
   "source": [
    "sample = data_table[data_table[\"country\"] == \"Serbia\"]\n",
    "plt.plot(pd.to_datetime(sample[\"date\"]), sample[\"total_vaccinations_per_hundred\"])\n",
    "plt.xticks(rotation=45, ha=\"right\")\n",
    "plt.xlabel(\"date\")\n",
    "plt.ylabel(\"total_vaccinations_per_hundred\")\n",
    "plt.title(\"Vaccinations data in Serbia\")\n",
    "plt.grid()"
   ]
  },
  {
   "cell_type": "code",
   "execution_count": 15,
   "metadata": {},
   "outputs": [],
   "source": [
    "data_table = data_table[data_table[\"country\"].isin(nan_stats.index.to_list())].drop(\n",
    "    columns=\"total\"\n",
    ")"
   ]
  },
  {
   "cell_type": "markdown",
   "metadata": {},
   "source": [
    "### from continents/groups"
   ]
  },
  {
   "cell_type": "code",
   "execution_count": 20,
   "metadata": {},
   "outputs": [],
   "source": [
    "groups = (\n",
    "    \"Asia\",\n",
    "    \"Europe\",\n",
    "    \"European Union\",\n",
    "    \"Upper middle income\",\n",
    "    \"Lower middle income\",\n",
    "    \"World\",\n",
    "    \"South America\",\n",
    "    \"North America\",\n",
    "    \"Africa\",\n",
    ")"
   ]
  },
  {
   "cell_type": "code",
   "execution_count": 22,
   "metadata": {},
   "outputs": [],
   "source": [
    "data_table = data_table[~data_table[\"country\"].isin(groups)]"
   ]
  },
  {
   "cell_type": "markdown",
   "metadata": {},
   "source": [
    "## Filling missing values"
   ]
  },
  {
   "cell_type": "markdown",
   "metadata": {},
   "source": [
    "It is unlikely that vaccination rates can drasticaly change between two points of data entry.  \n",
    "Therefore, it seems logical to fill missing values with linear interpolation."
   ]
  },
  {
   "cell_type": "code",
   "execution_count": 24,
   "metadata": {},
   "outputs": [],
   "source": [
    "# Filling missing values with data using linear approximation\n",
    "\n",
    "for country in countries:\n",
    "    data_table.loc[data_table[\"country\"] == country] = data_table.loc[\n",
    "        data_table[\"country\"] == country\n",
    "    ].interpolate(method=\"linear\")"
   ]
  },
  {
   "cell_type": "code",
   "execution_count": 25,
   "metadata": {},
   "outputs": [],
   "source": [
    "# there still might be nans\n",
    "# I will only need data of people_fully_vaccinated_per_hundred\n",
    "data_table = data_table[data_table.people_fully_vaccinated_per_hundred.notna()]"
   ]
  },
  {
   "cell_type": "code",
   "execution_count": 26,
   "metadata": {},
   "outputs": [
    {
     "data": {
      "text/plain": [
       "country                                0\n",
       "date                                   0\n",
       "total_vaccinations                     0\n",
       "people_vaccinated                      0\n",
       "people_fully_vaccinated                0\n",
       "total_vaccinations_per_hundred         0\n",
       "people_vaccinated_per_hundred          0\n",
       "people_fully_vaccinated_per_hundred    0\n",
       "dtype: int64"
      ]
     },
     "execution_count": 26,
     "metadata": {},
     "output_type": "execute_result"
    }
   ],
   "source": [
    "data_table.isna().sum()"
   ]
  },
  {
   "cell_type": "markdown",
   "metadata": {},
   "source": [
    "## save processed data"
   ]
  },
  {
   "cell_type": "code",
   "execution_count": 27,
   "metadata": {},
   "outputs": [],
   "source": [
    "data_table.to_parquet(\"../data/processed_data.parquet\")"
   ]
  },
  {
   "cell_type": "markdown",
   "metadata": {},
   "source": [
    "## Results"
   ]
  },
  {
   "cell_type": "markdown",
   "metadata": {},
   "source": [
    "- many countries have sparse data, however even 50% of missing values shows clear trend \n",
    "- interpolated missing values fit perfectly with linear method"
   ]
  }
 ],
 "metadata": {
  "kernelspec": {
   "display_name": ".venv",
   "language": "python",
   "name": "python3"
  },
  "language_info": {
   "codemirror_mode": {
    "name": "ipython",
    "version": 3
   },
   "file_extension": ".py",
   "mimetype": "text/x-python",
   "name": "python",
   "nbconvert_exporter": "python",
   "pygments_lexer": "ipython3",
   "version": "3.12.7"
  }
 },
 "nbformat": 4,
 "nbformat_minor": 2
}
