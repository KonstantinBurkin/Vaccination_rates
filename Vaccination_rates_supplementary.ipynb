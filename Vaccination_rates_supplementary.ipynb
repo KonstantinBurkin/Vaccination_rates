{
  "nbformat": 4,
  "nbformat_minor": 0,
  "metadata": {
    "colab": {
      "name": "Vaccination_rates_supplementary.ipynb",
      "provenance": [],
      "collapsed_sections": [],
      "authorship_tag": "ABX9TyOISvi5nA/YwU3zlhhfA7Xh",
      "include_colab_link": true
    },
    "kernelspec": {
      "name": "python3",
      "display_name": "Python 3"
    },
    "language_info": {
      "name": "python"
    }
  },
  "cells": [
    {
      "cell_type": "markdown",
      "metadata": {
        "id": "view-in-github",
        "colab_type": "text"
      },
      "source": [
        "<a href=\"https://colab.research.google.com/github/KonstantinBurkin/World_vaccination_data_analysis/blob/main/Vaccination_rates_supplementary.ipynb\" target=\"_parent\"><img src=\"https://colab.research.google.com/assets/colab-badge.svg\" alt=\"Open In Colab\"/></a>"
      ]
    },
    {
      "cell_type": "code",
      "execution_count": null,
      "metadata": {
        "id": "skdVItDbAGQO"
      },
      "outputs": [],
      "source": [
        "# for embedding plotly graphs\n",
        "# plotly.offline.init_notebook_mode(connected=True)"
      ]
    },
    {
      "cell_type": "code",
      "source": [
        "from google.colab import drive\n",
        "import IPython"
      ],
      "metadata": {
        "id": "17qhKW0gVrRA"
      },
      "execution_count": null,
      "outputs": []
    },
    {
      "cell_type": "code",
      "source": [
        "drive.mount('/content/gdrive')"
      ],
      "metadata": {
        "id": "3apdq7ThWUqA",
        "colab": {
          "base_uri": "https://localhost:8080/"
        },
        "outputId": "dfd3afa7-710c-4eb3-dcbb-16fa2a09b7ef"
      },
      "execution_count": null,
      "outputs": [
        {
          "output_type": "stream",
          "name": "stdout",
          "text": [
            "Mounted at /content/gdrive\n"
          ]
        }
      ]
    },
    {
      "cell_type": "code",
      "source": [
        "%%shell\n",
        "jupyter nbconvert /content/gdrive/MyDrive/'Colab Notebooks'/Vaccination_rates.ipynb  --to html --no-input --template basic --output-dir='/content'\n",
        "\n",
        "# generate html from ipynb \n",
        "# --no-input for hiding code"
      ],
      "metadata": {
        "colab": {
          "base_uri": "https://localhost:8080/"
        },
        "id": "Qel6WBWEUdVq",
        "outputId": "27fa549a-dd08-415c-ec80-d85d7f23bea7"
      },
      "execution_count": null,
      "outputs": [
        {
          "output_type": "stream",
          "name": "stdout",
          "text": [
            "[NbConvertApp] Converting notebook /content/gdrive/MyDrive/Colab Notebooks/Vaccination_rates.ipynb to html\n",
            "[NbConvertApp] Writing 505471 bytes to /content/Vaccination_rates.html\n"
          ]
        },
        {
          "output_type": "execute_result",
          "data": {
            "text/plain": [
              ""
            ]
          },
          "metadata": {},
          "execution_count": 3
        }
      ]
    },
    {
      "cell_type": "code",
      "source": [
        "# show generated html below\n",
        "IPython.display.HTML(filename='./Vaccination_rates.html')"
      ],
      "metadata": {
        "id": "N9IRPNFOUdwv"
      },
      "execution_count": null,
      "outputs": []
    },
    {
      "cell_type": "markdown",
      "source": [
        "I have to add the plot with vaccinations in countries **manually**."
      ],
      "metadata": {
        "id": "DLR3-tIEYLZV"
      }
    },
    {
      "cell_type": "code",
      "source": [
        "# instead of the code higher I use this code:\n",
        "\n",
        "<html>\n",
        "  <head>\n",
        "  <link rel=\"stylesheet\" href=\"https://cdn.jsdelivr.net/npm/katex@0.11.1/dist/katex.min.css\" integrity=\"sha384-zB1R0rpPzHqg7Kpt0Aljp8JPLqbXI3bhnPWROx27a9N0Ll6ZP/+DiW/UqRcLbRjq\" crossorigin=\"anonymous\">\n",
        "  <script defer src=\"https://cdn.jsdelivr.net/npm/katex@0.11.1/dist/katex.min.js\" integrity=\"sha384-y23I5Q6l+B6vatafAwxRu/0oK/79VlbSz7Q9aiSZUvyWYIYsd+qj+o24G5ZU2zJz\" crossorigin=\"anonymous\"></script>\n",
        "  <script defer src=\"https://cdn.jsdelivr.net/npm/katex@0.11.1/dist/contrib/auto-render.min.js\" integrity=\"sha384-kWPLUVMOks5AQFrykwIup5lo0m3iMkkHrD0uJ4H5cjeGihAutqP0yW0J6dpFiVkI\" crossorigin=\"anonymous\" onload=\"renderMathInElement(document.body);\"></script>\n",
        "    <title>Vaccination rates</title>\n",
        "    <style>\n",
        "      @import url('https://fonts.googleapis.com/css2?family=Nunito:ital,wght@0,400;0,500;0,600;1,400&display=swap');\n",
        "      @media screen and (min-width:1000px) {\n",
        "      body{\n",
        "            margin-left: 20vh; \n",
        "            margin-right: 20vh;\n",
        "            font-size: 18px;\n",
        "            font-family: 'Nunito', sans-serif;\n",
        "                  }}\n",
        "      @media screen and (max-width:1000px) {\n",
        "        body{\n",
        "            margin-left: 2vh; \n",
        "            margin-right: 2vh;\n",
        "            font-size: 30px;\n",
        "            font-family: 'Nunito', sans-serif;\n",
        "                  }\n",
        "              }\n",
        "      @media screen and (min-width:1800px) {\n",
        "        body{\n",
        "            margin-left: 30vh; \n",
        "            margin-right: 30vh;\n",
        "            font-size: 18px;\n",
        "            font-family: 'Nunito', sans-serif;\n",
        "                  }\n",
        "              }\n",
        "    </style>\n",
        "  </head>"
      ],
      "metadata": {
        "id": "zGwr0PRWUfby"
      },
      "execution_count": null,
      "outputs": []
    },
    {
      "cell_type": "code",
      "source": [
        ""
      ],
      "metadata": {
        "id": "KR3ET8SxUib8"
      },
      "execution_count": null,
      "outputs": []
    }
  ]
}