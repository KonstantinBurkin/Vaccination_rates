{
  "nbformat": 4,
  "nbformat_minor": 0,
  "metadata": {
    "colab": {
      "name": "Vaccination_rates_supplementary.ipynb",
      "provenance": [],
      "collapsed_sections": [
        "7Jm4k0gsagH3"
      ],
      "authorship_tag": "ABX9TyM38jxTPB7J+2rB4fVVPQfC",
      "include_colab_link": true
    },
    "kernelspec": {
      "name": "python3",
      "display_name": "Python 3"
    },
    "language_info": {
      "name": "python"
    }
  },
  "cells": [
    {
      "cell_type": "markdown",
      "metadata": {
        "id": "view-in-github",
        "colab_type": "text"
      },
      "source": [
        "<a href=\"https://colab.research.google.com/github/KonstantinBurkin/Vaccination_rates/blob/main/Vaccination_rates_supplementary.ipynb\" target=\"_parent\"><img src=\"https://colab.research.google.com/assets/colab-badge.svg\" alt=\"Open In Colab\"/></a>"
      ]
    },
    {
      "cell_type": "code",
      "execution_count": null,
      "metadata": {
        "id": "skdVItDbAGQO"
      },
      "outputs": [],
      "source": [
        "# for embedding plotly graphs\n",
        "# plotly.offline.init_notebook_mode(connected=True)"
      ]
    },
    {
      "cell_type": "code",
      "source": [
        "from google.colab import drive\n",
        "from google.colab import files\n",
        "import IPython"
      ],
      "metadata": {
        "id": "17qhKW0gVrRA"
      },
      "execution_count": 1,
      "outputs": []
    },
    {
      "cell_type": "code",
      "source": [
        "drive.mount('/content/gdrive')"
      ],
      "metadata": {
        "id": "3apdq7ThWUqA"
      },
      "execution_count": null,
      "outputs": []
    },
    {
      "cell_type": "code",
      "source": [
        "%%shell\n",
        "jupyter nbconvert /content/gdrive/MyDrive/'Colab Notebooks'/Vaccination_rates.ipynb  --to html --no-input --template basic --output-dir='/content'\n",
        "\n",
        "# generate html from ipynb \n",
        "# --no-input for hiding code"
      ],
      "metadata": {
        "id": "Qel6WBWEUdVq"
      },
      "execution_count": null,
      "outputs": []
    },
    {
      "cell_type": "code",
      "source": [
        "# show generated html below\n",
        "IPython.display.HTML(filename='./Vaccination_rates.html')"
      ],
      "metadata": {
        "id": "N9IRPNFOUdwv"
      },
      "execution_count": null,
      "outputs": []
    },
    {
      "cell_type": "code",
      "source": [
        "files.download(\"/content/Vaccination_rates.html\")"
      ],
      "metadata": {
        "id": "CF4LQxp_AeQz"
      },
      "execution_count": null,
      "outputs": []
    },
    {
      "cell_type": "markdown",
      "source": [
        "I have to add the plot with vaccinations in countries **manually**."
      ],
      "metadata": {
        "id": "DLR3-tIEYLZV"
      }
    },
    {
      "cell_type": "code",
      "source": [
        "# fig.write_html(\"plot.html\")\n",
        "# import IPython\n",
        "# IPython.display.HTML(filename='./plot.html')\n",
        "\n",
        "# I should save the plot and then copy html code into the file"
      ],
      "metadata": {
        "id": "wsxIEyV5bI_7"
      },
      "execution_count": null,
      "outputs": []
    },
    {
      "cell_type": "code",
      "source": [
        "# instead of the code higher I use this code:\n",
        "\n",
        "<html>\n",
        "  <head>\n",
        "  <link rel=\"stylesheet\" href=\"https://cdn.jsdelivr.net/npm/katex@0.11.1/dist/katex.min.css\" integrity=\"sha384-zB1R0rpPzHqg7Kpt0Aljp8JPLqbXI3bhnPWROx27a9N0Ll6ZP/+DiW/UqRcLbRjq\" crossorigin=\"anonymous\">\n",
        "  <script defer src=\"https://cdn.jsdelivr.net/npm/katex@0.11.1/dist/katex.min.js\" integrity=\"sha384-y23I5Q6l+B6vatafAwxRu/0oK/79VlbSz7Q9aiSZUvyWYIYsd+qj+o24G5ZU2zJz\" crossorigin=\"anonymous\"></script>\n",
        "  <script defer src=\"https://cdn.jsdelivr.net/npm/katex@0.11.1/dist/contrib/auto-render.min.js\" integrity=\"sha384-kWPLUVMOks5AQFrykwIup5lo0m3iMkkHrD0uJ4H5cjeGihAutqP0yW0J6dpFiVkI\" crossorigin=\"anonymous\" onload=\"renderMathInElement(document.body);\"></script>\n",
        "    <title>Vaccination rates</title>\n",
        "    <style>\n",
        "      @import url('https://fonts.googleapis.com/css2?family=Nunito:ital,wght@0,400;0,500;0,600;1,400&display=swap');\n",
        "      @media screen and (min-width:1000px) {\n",
        "      body{\n",
        "            margin-left: 20vh; \n",
        "            margin-right: 20vh;\n",
        "            font-size: 18px;\n",
        "            font-family: 'Nunito', sans-serif;\n",
        "                  }}\n",
        "      @media screen and (max-width:1000px) {\n",
        "        body{\n",
        "            margin-left: 2vh; \n",
        "            margin-right: 2vh;\n",
        "            font-size: 30px;\n",
        "            font-family: 'Nunito', sans-serif;\n",
        "                  }\n",
        "              }\n",
        "      @media screen and (min-width:1800px) {\n",
        "        body{\n",
        "            margin-left: 30vh; \n",
        "            margin-right: 30vh;\n",
        "            font-size: 18px;\n",
        "            font-family: 'Nunito', sans-serif;\n",
        "                  }\n",
        "              }\n",
        "    </style>\n",
        "  </head>"
      ],
      "metadata": {
        "id": "zGwr0PRWUfby"
      },
      "execution_count": null,
      "outputs": []
    },
    {
      "cell_type": "markdown",
      "source": [
        "## Unused code"
      ],
      "metadata": {
        "id": "7Jm4k0gsagH3"
      }
    },
    {
      "cell_type": "code",
      "source": [
        "# %%capture\n",
        "# !pip install -q dash==1.19.0\n",
        "\n",
        "# %%capture\n",
        "# !pip install -q jupyter_dash==0.3.0"
      ],
      "metadata": {
        "id": "KR3ET8SxUib8"
      },
      "execution_count": 1,
      "outputs": []
    },
    {
      "cell_type": "code",
      "source": [
        "# this graph converts to html properly with the notebook \n",
        "# I have to add countries mannually\n",
        "\n",
        "# fig = go.Figure()\n",
        "# fig.add_trace(\n",
        "#     go.Scatter(\n",
        "#         x=x,\n",
        "#         y=y,))\n",
        "# fig.update_layout(font_family=\"'Nunito', sans-serif\",\n",
        "#     title={\n",
        "#         # 'text': f\"Vaccination rates in {country}\",\n",
        "#         'y':0.95,\n",
        "#         'x':0.5,\n",
        "#         'xanchor': 'center',\n",
        "#         'yanchor': 'top'},\n",
        "#         xaxis_title='Date',\n",
        "#         yaxis_title='Vaccinations',\n",
        "#         showlegend=False,)\n",
        "\n",
        "# # fig1 = go.Figure()\n",
        "# # fig1.add_trace(\n",
        "# #     go.Scatter(\n",
        "# #         x=data_table[data_table['Country'] == 'Sweden'].Date,\n",
        "# #         y=data_table[data_table['Country'] == 'Sweden'].Vaccinations,))\n",
        "# # fig1.update_layout(font_family=\"'Nunito', sans-serif\",\n",
        "# #     title={\n",
        "# #         'text': f\"Vaccination rates in {country}\",\n",
        "# #         'y':0.95,\n",
        "# #         'x':0.5,\n",
        "# #         'xanchor': 'center',\n",
        "# #         'yanchor': 'top'},\n",
        "# #         xaxis_title='Date',\n",
        "# #         yaxis_title='Vaccinations',\n",
        "# #         showlegend=False,)\n",
        "\n",
        "# # fig2 = go.Figure()\n",
        "# # fig2.add_trace(\n",
        "# #     go.Scatter(\n",
        "# #         x=data_table[data_table['Country'] == 'Norway'].Date,\n",
        "# #         y=data_table[data_table['Country'] == 'Norway'].Vaccinations,))\n",
        "# # fig2.update_layout(font_family=\"'Nunito', sans-serif\",\n",
        "# #     title={\n",
        "# #         'text': f\"Vaccination rates in {country}\",\n",
        "# #         'y':0.95,\n",
        "# #         'x':0.5,\n",
        "# #         'xanchor': 'center',\n",
        "# #         'yanchor': 'top'},\n",
        "# #         xaxis_title='Date',\n",
        "# #         yaxis_title='Vaccinations',\n",
        "# #         showlegend=False,)\n",
        "\n",
        "# # Add dropdown\n",
        "# fig.update_layout(\n",
        "#     updatemenus=[\n",
        "#         dict(buttons=list([\n",
        "                           \n",
        "#                 dict(\n",
        "#                     args=[{'x': [dat.x for dat in fig2.data],'y': [dat.y for dat in fig2.data]}],\n",
        "#                     label=\"Norway\",\n",
        "#                     method=\"restyle\"),\n",
        "#                 dict(\n",
        "#                     args=[{'x': [dat.x for dat in z[0].data],'y': [dat.y for dat in z[0].data]}],\n",
        "#                     label=f\"{countries[0]}\",\n",
        "#                     method=\"restyle\") ]),\n",
        "#             direction=\"down\",\n",
        "#             # pad={\"r\": 20, \"t\": 20},\n",
        "#             showactive=True,\n",
        "#             x=0.1,\n",
        "#             xanchor=\"right\",\n",
        "#             y=1.1,\n",
        "#             yanchor=\"middle\"\n",
        "#             ),])\n",
        "\n",
        "\n",
        "# fig.show()"
      ],
      "metadata": {
        "id": "4fWGw0lxavuY"
      },
      "execution_count": null,
      "outputs": []
    },
    {
      "cell_type": "code",
      "source": [
        "# graph made with dash\n",
        "\n",
        "# it is prettier, but I have to make the website out of it using heruko\n",
        "\n",
        "# import dash             \n",
        "# import dash_core_components as dcc\n",
        "# import dash_html_components as html\n",
        "# from dash.dependencies import Input, Output\n",
        "# from dash import no_update\n",
        "# from jupyter_dash import JupyterDash\n",
        "\n",
        "\n",
        "\n",
        "# external_stylesheets = ['https://codepen.io/chriddyp/pen/bWLwgP.css']\n",
        "# app = JupyterDash(__name__, \n",
        "#                   external_stylesheets=external_stylesheets\n",
        "#                   )\n",
        "\n",
        "\n",
        "# #---------------------------------------------------------------\n",
        "# app.layout = html.Div([\n",
        "\n",
        "#     html.Div([\n",
        "#         dcc.Graph(id='our_graph')\n",
        "#     ],className='nine columns'),\n",
        "\n",
        "#     html.Div([\n",
        "\n",
        "#         html.Br(),\n",
        "#         html.Label(['Choose country:'],style={'font-weight': 'bold', \"text-align\": \"center\"}),\n",
        "#         dcc.Dropdown(id='country',\n",
        "#             options=[{'label':x, 'value':x} for x in countries],\n",
        "#             value='Africa',\n",
        "#             multi=False,\n",
        "#             disabled=False,\n",
        "#             clearable=True,\n",
        "#             searchable=True,\n",
        "#             placeholder='Country...',\n",
        "#             className='form-dropdown',\n",
        "#             style={'width':\"90%\"},\n",
        "#             persistence='string',\n",
        "#             persistence_type='memory'),\n",
        "\n",
        "\n",
        "#     ],className='three columns'),\n",
        "\n",
        "# ])\n",
        "\n",
        "# #---------------------------------------------------------------\n",
        "\n",
        "# @app.callback(\n",
        "#     Output('our_graph','figure'),\n",
        "#     [Input('country','value')]\n",
        "# )\n",
        "\n",
        "# def build_graph(country):\n",
        "#     dff=data_table[(data_table['Country']==country)]\n",
        "#     # print(dff[:5])\n",
        "    \n",
        "#     fig = px.line(dff, x=\"Date\", \n",
        "#                   y=\"Vaccinations\", \n",
        "#                    height=600)\n",
        "#     fig.update_layout(font_family=\"'Nunito', sans-serif\",\n",
        "#     title={\n",
        "#         'text': f\"Vaccination rates in {country}\",\n",
        "#         'y':0.95,\n",
        "#         'x':0.5,\n",
        "#         'xanchor': 'center',\n",
        "#         'yanchor': 'top'},\n",
        "#         xaxis_title='Date',\n",
        "#         yaxis_title='Vaccinations',\n",
        "#         showlegend=False,)\n",
        "#     return fig\n",
        "\n",
        "# #---------------------------------------------------------------\n",
        "\n",
        "# app.css.config.serve_locally=True\n",
        "# app.scripts.config.serve_locally=True\n",
        "\n",
        "# # if __name__ =='__main__':\n",
        "# app.run_server(debug=False, mode='inline')"
      ],
      "metadata": {
        "id": "QX7kBBrGbBWC"
      },
      "execution_count": null,
      "outputs": []
    }
  ]
}