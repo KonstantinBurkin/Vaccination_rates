{
  "nbformat": 4,
  "nbformat_minor": 0,
  "metadata": {
    "colab": {
      "name": "Copy of Data_analysis_Project 15-12-21.ipynb",
      "provenance": [],
      "collapsed_sections": [
        "JKQoi0K__nY7",
        "9Ipsznvd_eNu",
        "y7f6Nk69gmJ4",
        "dz3M84bTSj-7",
        "64nU-u5E9WjD",
        "1FfCaH044KjS"
      ],
      "toc_visible": true,
      "authorship_tag": "ABX9TyOzfEEME7iBuNm47lSQT3kg",
      "include_colab_link": true
    },
    "kernelspec": {
      "name": "python3",
      "display_name": "Python 3"
    },
    "language_info": {
      "name": "python"
    }
  },
  "cells": [
    {
      "cell_type": "markdown",
      "metadata": {
        "id": "view-in-github",
        "colab_type": "text"
      },
      "source": [
        "<a href=\"https://colab.research.google.com/github/KonstantinBurkin/World_vaccination_data_analysis/blob/Edits-to-use-this-project-for-CV/World_vaccination_data_analysis.ipynb\" target=\"_parent\"><img src=\"https://colab.research.google.com/assets/colab-badge.svg\" alt=\"Open In Colab\"/></a>"
      ]
    },
    {
      "cell_type": "markdown",
      "metadata": {
        "id": "a7cOIzVjWvuQ"
      },
      "source": [
        "#**\"World vaccination data analysis\" project**#\n",
        "\n",
        "> **MSU course: \"Basics of programming and data analysis in Python\"**\n",
        "\n",
        "\n",
        "\n",
        "\n",
        "\n",
        "\n",
        "---"
      ]
    },
    {
      "cell_type": "markdown",
      "source": [
        "## Download data"
      ],
      "metadata": {
        "id": "9Ipsznvd_eNu"
      }
    },
    {
      "cell_type": "markdown",
      "source": [
        "- Import necessary libraries \n",
        "- Import data from Github\n",
        "- Create dataset in Python"
      ],
      "metadata": {
        "id": "MsC16AGoPduB"
      }
    },
    {
      "cell_type": "markdown",
      "source": [
        "Data from:\n",
        "https://www.kaggle.com/gpreda/covid-world-vaccination-progress or https://github.com/owid/covid-19-data"
      ],
      "metadata": {
        "id": "HOdhPuijOyzY"
      }
    },
    {
      "cell_type": "code",
      "metadata": {
        "id": "8tfNZSX6ej1v"
      },
      "source": [
        "# Import libraries\n",
        "from google.colab import output\n",
        "import matplotlib.pyplot as plt\n",
        "import numpy as np\n",
        "import pandas as pd\n",
        "import scipy.stats as sps\n",
        "from datetime import timedelta, date, datetime"
      ],
      "execution_count": 8,
      "outputs": []
    },
    {
      "cell_type": "code",
      "metadata": {
        "id": "Qm7TNTBJeeyk"
      },
      "source": [
        "# Download data from Github\n",
        "!wget -O \"vaccinations.csv\" \"https://raw.githubusercontent.com/owid/covid-19-data/master/public/data/vaccinations/vaccinations.csv\"\n",
        "output.clear()"
      ],
      "execution_count": 9,
      "outputs": []
    },
    {
      "cell_type": "code",
      "metadata": {
        "id": "0BtTuJP0e2eO"
      },
      "source": [
        "# Create dataset\n",
        "data_table = pd.read_csv(\"vaccinations.csv\")"
      ],
      "execution_count": 10,
      "outputs": []
    },
    {
      "cell_type": "markdown",
      "metadata": {
        "id": "y7f6Nk69gmJ4"
      },
      "source": [
        "## Analysis of raw dataset"
      ]
    },
    {
      "cell_type": "markdown",
      "source": [
        "- Display raw dataset \n",
        "- Choose the necessary parameters from the table\n",
        "- Modify dataset\n",
        "- Analyze data types in the dataset\n",
        "- Description of parameters in the dataset\n",
        "- Overall statistical characteristics of the dataset"
      ],
      "metadata": {
        "id": "a_wVA2D2QSLQ"
      }
    },
    {
      "cell_type": "code",
      "metadata": {
        "id": "_DzEY1MUgINr",
        "colab": {
          "base_uri": "https://localhost:8080/",
          "height": 162
        },
        "outputId": "f8515737-0347-4198-d01e-165cdac19282"
      },
      "source": [
        "# display the first column with the names of the columns\n",
        "data_table.head(1)"
      ],
      "execution_count": 11,
      "outputs": [
        {
          "output_type": "execute_result",
          "data": {
            "text/html": [
              "\n",
              "  <div id=\"df-e81087ca-acb1-4d0c-8154-6ee6f76cba3c\">\n",
              "    <div class=\"colab-df-container\">\n",
              "      <div>\n",
              "<style scoped>\n",
              "    .dataframe tbody tr th:only-of-type {\n",
              "        vertical-align: middle;\n",
              "    }\n",
              "\n",
              "    .dataframe tbody tr th {\n",
              "        vertical-align: top;\n",
              "    }\n",
              "\n",
              "    .dataframe thead th {\n",
              "        text-align: right;\n",
              "    }\n",
              "</style>\n",
              "<table border=\"1\" class=\"dataframe\">\n",
              "  <thead>\n",
              "    <tr style=\"text-align: right;\">\n",
              "      <th></th>\n",
              "      <th>location</th>\n",
              "      <th>iso_code</th>\n",
              "      <th>date</th>\n",
              "      <th>total_vaccinations</th>\n",
              "      <th>people_vaccinated</th>\n",
              "      <th>people_fully_vaccinated</th>\n",
              "      <th>total_boosters</th>\n",
              "      <th>daily_vaccinations_raw</th>\n",
              "      <th>daily_vaccinations</th>\n",
              "      <th>total_vaccinations_per_hundred</th>\n",
              "      <th>people_vaccinated_per_hundred</th>\n",
              "      <th>people_fully_vaccinated_per_hundred</th>\n",
              "      <th>total_boosters_per_hundred</th>\n",
              "      <th>daily_vaccinations_per_million</th>\n",
              "      <th>daily_people_vaccinated</th>\n",
              "      <th>daily_people_vaccinated_per_hundred</th>\n",
              "    </tr>\n",
              "  </thead>\n",
              "  <tbody>\n",
              "    <tr>\n",
              "      <th>0</th>\n",
              "      <td>Afghanistan</td>\n",
              "      <td>AFG</td>\n",
              "      <td>2021-02-22</td>\n",
              "      <td>0.0</td>\n",
              "      <td>0.0</td>\n",
              "      <td>NaN</td>\n",
              "      <td>NaN</td>\n",
              "      <td>NaN</td>\n",
              "      <td>NaN</td>\n",
              "      <td>0.0</td>\n",
              "      <td>0.0</td>\n",
              "      <td>NaN</td>\n",
              "      <td>NaN</td>\n",
              "      <td>NaN</td>\n",
              "      <td>NaN</td>\n",
              "      <td>NaN</td>\n",
              "    </tr>\n",
              "  </tbody>\n",
              "</table>\n",
              "</div>\n",
              "      <button class=\"colab-df-convert\" onclick=\"convertToInteractive('df-e81087ca-acb1-4d0c-8154-6ee6f76cba3c')\"\n",
              "              title=\"Convert this dataframe to an interactive table.\"\n",
              "              style=\"display:none;\">\n",
              "        \n",
              "  <svg xmlns=\"http://www.w3.org/2000/svg\" height=\"24px\"viewBox=\"0 0 24 24\"\n",
              "       width=\"24px\">\n",
              "    <path d=\"M0 0h24v24H0V0z\" fill=\"none\"/>\n",
              "    <path d=\"M18.56 5.44l.94 2.06.94-2.06 2.06-.94-2.06-.94-.94-2.06-.94 2.06-2.06.94zm-11 1L8.5 8.5l.94-2.06 2.06-.94-2.06-.94L8.5 2.5l-.94 2.06-2.06.94zm10 10l.94 2.06.94-2.06 2.06-.94-2.06-.94-.94-2.06-.94 2.06-2.06.94z\"/><path d=\"M17.41 7.96l-1.37-1.37c-.4-.4-.92-.59-1.43-.59-.52 0-1.04.2-1.43.59L10.3 9.45l-7.72 7.72c-.78.78-.78 2.05 0 2.83L4 21.41c.39.39.9.59 1.41.59.51 0 1.02-.2 1.41-.59l7.78-7.78 2.81-2.81c.8-.78.8-2.07 0-2.86zM5.41 20L4 18.59l7.72-7.72 1.47 1.35L5.41 20z\"/>\n",
              "  </svg>\n",
              "      </button>\n",
              "      \n",
              "  <style>\n",
              "    .colab-df-container {\n",
              "      display:flex;\n",
              "      flex-wrap:wrap;\n",
              "      gap: 12px;\n",
              "    }\n",
              "\n",
              "    .colab-df-convert {\n",
              "      background-color: #E8F0FE;\n",
              "      border: none;\n",
              "      border-radius: 50%;\n",
              "      cursor: pointer;\n",
              "      display: none;\n",
              "      fill: #1967D2;\n",
              "      height: 32px;\n",
              "      padding: 0 0 0 0;\n",
              "      width: 32px;\n",
              "    }\n",
              "\n",
              "    .colab-df-convert:hover {\n",
              "      background-color: #E2EBFA;\n",
              "      box-shadow: 0px 1px 2px rgba(60, 64, 67, 0.3), 0px 1px 3px 1px rgba(60, 64, 67, 0.15);\n",
              "      fill: #174EA6;\n",
              "    }\n",
              "\n",
              "    [theme=dark] .colab-df-convert {\n",
              "      background-color: #3B4455;\n",
              "      fill: #D2E3FC;\n",
              "    }\n",
              "\n",
              "    [theme=dark] .colab-df-convert:hover {\n",
              "      background-color: #434B5C;\n",
              "      box-shadow: 0px 1px 3px 1px rgba(0, 0, 0, 0.15);\n",
              "      filter: drop-shadow(0px 1px 2px rgba(0, 0, 0, 0.3));\n",
              "      fill: #FFFFFF;\n",
              "    }\n",
              "  </style>\n",
              "\n",
              "      <script>\n",
              "        const buttonEl =\n",
              "          document.querySelector('#df-e81087ca-acb1-4d0c-8154-6ee6f76cba3c button.colab-df-convert');\n",
              "        buttonEl.style.display =\n",
              "          google.colab.kernel.accessAllowed ? 'block' : 'none';\n",
              "\n",
              "        async function convertToInteractive(key) {\n",
              "          const element = document.querySelector('#df-e81087ca-acb1-4d0c-8154-6ee6f76cba3c');\n",
              "          const dataTable =\n",
              "            await google.colab.kernel.invokeFunction('convertToInteractive',\n",
              "                                                     [key], {});\n",
              "          if (!dataTable) return;\n",
              "\n",
              "          const docLinkHtml = 'Like what you see? Visit the ' +\n",
              "            '<a target=\"_blank\" href=https://colab.research.google.com/notebooks/data_table.ipynb>data table notebook</a>'\n",
              "            + ' to learn more about interactive tables.';\n",
              "          element.innerHTML = '';\n",
              "          dataTable['output_type'] = 'display_data';\n",
              "          await google.colab.output.renderOutput(dataTable, element);\n",
              "          const docLink = document.createElement('div');\n",
              "          docLink.innerHTML = docLinkHtml;\n",
              "          element.appendChild(docLink);\n",
              "        }\n",
              "      </script>\n",
              "    </div>\n",
              "  </div>\n",
              "  "
            ],
            "text/plain": [
              "      location  ... daily_people_vaccinated_per_hundred\n",
              "0  Afghanistan  ...                                 NaN\n",
              "\n",
              "[1 rows x 16 columns]"
            ]
          },
          "metadata": {},
          "execution_count": 11
        }
      ]
    },
    {
      "cell_type": "code",
      "source": [
        "# Delete unnecessary columns\n",
        "data_table.drop(labels=['daily_vaccinations_raw', 'daily_vaccinations', 'iso_code', 'daily_people_vaccinated', 'daily_people_vaccinated_per_hundred', 'daily_vaccinations_per_million', 'total_boosters', 'total_boosters_per_hundred'], axis='columns', inplace=True)"
      ],
      "metadata": {
        "id": "5cjZjBVZBgYg"
      },
      "execution_count": 12,
      "outputs": []
    },
    {
      "cell_type": "code",
      "source": [
        "# Modify the names of the columns\n",
        "data_table.rename(columns={'location': 'country'}, inplace=True)\n",
        "\n",
        "def column_name_preprocess(col_name):\n",
        "    for char in ['total_', 'people_']:\n",
        "        col_name = col_name.replace(char, '')\n",
        "        col_name = col_name.replace('_per_hundred', '_ratio')\n",
        "    return col_name\n",
        "\n",
        "column_names = data_table.columns\n",
        "data_table.columns = [column_name_preprocess(col_name).title() for col_name in column_names]"
      ],
      "metadata": {
        "id": "kb18QH8RLiRz"
      },
      "execution_count": 13,
      "outputs": []
    },
    {
      "cell_type": "code",
      "source": [
        "# display the first column with the modified names of the columns\n",
        "data_table.head(1)"
      ],
      "metadata": {
        "colab": {
          "base_uri": "https://localhost:8080/",
          "height": 142
        },
        "id": "NBlKjro_JE8-",
        "outputId": "ffcb188c-6242-46cd-8b41-8f98b6d45e55"
      },
      "execution_count": 14,
      "outputs": [
        {
          "output_type": "execute_result",
          "data": {
            "text/html": [
              "\n",
              "  <div id=\"df-c337eb47-0e42-4f04-b4c5-f590419d1ece\">\n",
              "    <div class=\"colab-df-container\">\n",
              "      <div>\n",
              "<style scoped>\n",
              "    .dataframe tbody tr th:only-of-type {\n",
              "        vertical-align: middle;\n",
              "    }\n",
              "\n",
              "    .dataframe tbody tr th {\n",
              "        vertical-align: top;\n",
              "    }\n",
              "\n",
              "    .dataframe thead th {\n",
              "        text-align: right;\n",
              "    }\n",
              "</style>\n",
              "<table border=\"1\" class=\"dataframe\">\n",
              "  <thead>\n",
              "    <tr style=\"text-align: right;\">\n",
              "      <th></th>\n",
              "      <th>Country</th>\n",
              "      <th>Date</th>\n",
              "      <th>Vaccinations</th>\n",
              "      <th>Vaccinated</th>\n",
              "      <th>Fully_Vaccinated</th>\n",
              "      <th>Vaccinations_Ratio</th>\n",
              "      <th>Vaccinated_Ratio</th>\n",
              "      <th>Fully_Vaccinated_Ratio</th>\n",
              "    </tr>\n",
              "  </thead>\n",
              "  <tbody>\n",
              "    <tr>\n",
              "      <th>0</th>\n",
              "      <td>Afghanistan</td>\n",
              "      <td>2021-02-22</td>\n",
              "      <td>0.0</td>\n",
              "      <td>0.0</td>\n",
              "      <td>NaN</td>\n",
              "      <td>0.0</td>\n",
              "      <td>0.0</td>\n",
              "      <td>NaN</td>\n",
              "    </tr>\n",
              "  </tbody>\n",
              "</table>\n",
              "</div>\n",
              "      <button class=\"colab-df-convert\" onclick=\"convertToInteractive('df-c337eb47-0e42-4f04-b4c5-f590419d1ece')\"\n",
              "              title=\"Convert this dataframe to an interactive table.\"\n",
              "              style=\"display:none;\">\n",
              "        \n",
              "  <svg xmlns=\"http://www.w3.org/2000/svg\" height=\"24px\"viewBox=\"0 0 24 24\"\n",
              "       width=\"24px\">\n",
              "    <path d=\"M0 0h24v24H0V0z\" fill=\"none\"/>\n",
              "    <path d=\"M18.56 5.44l.94 2.06.94-2.06 2.06-.94-2.06-.94-.94-2.06-.94 2.06-2.06.94zm-11 1L8.5 8.5l.94-2.06 2.06-.94-2.06-.94L8.5 2.5l-.94 2.06-2.06.94zm10 10l.94 2.06.94-2.06 2.06-.94-2.06-.94-.94-2.06-.94 2.06-2.06.94z\"/><path d=\"M17.41 7.96l-1.37-1.37c-.4-.4-.92-.59-1.43-.59-.52 0-1.04.2-1.43.59L10.3 9.45l-7.72 7.72c-.78.78-.78 2.05 0 2.83L4 21.41c.39.39.9.59 1.41.59.51 0 1.02-.2 1.41-.59l7.78-7.78 2.81-2.81c.8-.78.8-2.07 0-2.86zM5.41 20L4 18.59l7.72-7.72 1.47 1.35L5.41 20z\"/>\n",
              "  </svg>\n",
              "      </button>\n",
              "      \n",
              "  <style>\n",
              "    .colab-df-container {\n",
              "      display:flex;\n",
              "      flex-wrap:wrap;\n",
              "      gap: 12px;\n",
              "    }\n",
              "\n",
              "    .colab-df-convert {\n",
              "      background-color: #E8F0FE;\n",
              "      border: none;\n",
              "      border-radius: 50%;\n",
              "      cursor: pointer;\n",
              "      display: none;\n",
              "      fill: #1967D2;\n",
              "      height: 32px;\n",
              "      padding: 0 0 0 0;\n",
              "      width: 32px;\n",
              "    }\n",
              "\n",
              "    .colab-df-convert:hover {\n",
              "      background-color: #E2EBFA;\n",
              "      box-shadow: 0px 1px 2px rgba(60, 64, 67, 0.3), 0px 1px 3px 1px rgba(60, 64, 67, 0.15);\n",
              "      fill: #174EA6;\n",
              "    }\n",
              "\n",
              "    [theme=dark] .colab-df-convert {\n",
              "      background-color: #3B4455;\n",
              "      fill: #D2E3FC;\n",
              "    }\n",
              "\n",
              "    [theme=dark] .colab-df-convert:hover {\n",
              "      background-color: #434B5C;\n",
              "      box-shadow: 0px 1px 3px 1px rgba(0, 0, 0, 0.15);\n",
              "      filter: drop-shadow(0px 1px 2px rgba(0, 0, 0, 0.3));\n",
              "      fill: #FFFFFF;\n",
              "    }\n",
              "  </style>\n",
              "\n",
              "      <script>\n",
              "        const buttonEl =\n",
              "          document.querySelector('#df-c337eb47-0e42-4f04-b4c5-f590419d1ece button.colab-df-convert');\n",
              "        buttonEl.style.display =\n",
              "          google.colab.kernel.accessAllowed ? 'block' : 'none';\n",
              "\n",
              "        async function convertToInteractive(key) {\n",
              "          const element = document.querySelector('#df-c337eb47-0e42-4f04-b4c5-f590419d1ece');\n",
              "          const dataTable =\n",
              "            await google.colab.kernel.invokeFunction('convertToInteractive',\n",
              "                                                     [key], {});\n",
              "          if (!dataTable) return;\n",
              "\n",
              "          const docLinkHtml = 'Like what you see? Visit the ' +\n",
              "            '<a target=\"_blank\" href=https://colab.research.google.com/notebooks/data_table.ipynb>data table notebook</a>'\n",
              "            + ' to learn more about interactive tables.';\n",
              "          element.innerHTML = '';\n",
              "          dataTable['output_type'] = 'display_data';\n",
              "          await google.colab.output.renderOutput(dataTable, element);\n",
              "          const docLink = document.createElement('div');\n",
              "          docLink.innerHTML = docLinkHtml;\n",
              "          element.appendChild(docLink);\n",
              "        }\n",
              "      </script>\n",
              "    </div>\n",
              "  </div>\n",
              "  "
            ],
            "text/plain": [
              "       Country        Date  ...  Vaccinated_Ratio  Fully_Vaccinated_Ratio\n",
              "0  Afghanistan  2021-02-22  ...               0.0                     NaN\n",
              "\n",
              "[1 rows x 8 columns]"
            ]
          },
          "metadata": {},
          "execution_count": 14
        }
      ]
    },
    {
      "cell_type": "code",
      "metadata": {
        "id": "zJAJML-giaWU",
        "colab": {
          "base_uri": "https://localhost:8080/"
        },
        "outputId": "94e70f5a-d552-4e35-aef7-3b51df94350e"
      },
      "source": [
        "# Analyze data types in the dataset\n",
        "data_table.info()"
      ],
      "execution_count": 15,
      "outputs": [
        {
          "output_type": "stream",
          "name": "stdout",
          "text": [
            "<class 'pandas.core.frame.DataFrame'>\n",
            "RangeIndex: 81314 entries, 0 to 81313\n",
            "Data columns (total 8 columns):\n",
            " #   Column                  Non-Null Count  Dtype  \n",
            "---  ------                  --------------  -----  \n",
            " 0   Country                 81314 non-null  object \n",
            " 1   Date                    81314 non-null  object \n",
            " 2   Vaccinations            44416 non-null  float64\n",
            " 3   Vaccinated              42368 non-null  float64\n",
            " 4   Fully_Vaccinated        39680 non-null  float64\n",
            " 5   Vaccinations_Ratio      44416 non-null  float64\n",
            " 6   Vaccinated_Ratio        42368 non-null  float64\n",
            " 7   Fully_Vaccinated_Ratio  39680 non-null  float64\n",
            "dtypes: float64(6), object(2)\n",
            "memory usage: 5.0+ MB\n"
          ]
        }
      ]
    },
    {
      "cell_type": "markdown",
      "source": [
        "###Detailed description of parameters\n",
        "* *Country* - this is the country for which the vaccination information is \n",
        "provided;\t**Categorical**\n",
        "* *Date* - date for the data entry; **Categorical**\n",
        "* *Vaccinations* - this is the absolute number of total immunizations in the country; **Numerical**\n",
        "* *Vaccinated* - a person, depending on the immunization scheme, will receive one or more (typically 2) vaccines; at a certain moment, the number of vaccination might be larger than the number of people; **Numerical**\n",
        "* *Fully_Vaccinated* - this is the number of people that received the entire set of immunization according to the immunization scheme (typically 2); **Numerical**\n",
        "* *Vaccinations, %* -  ratio between vaccination number and total population up to the date in the country; **Numerical**\n",
        "* *Vaccinated, %* - ratio between population immunized and total population up to the date in the country; **Numerical**\n",
        "* *Fully_Vaccinated, %* - ratio between population fully immunized and total population up to the date in the country; **Numerical**"
      ],
      "metadata": {
        "id": "fQJVy4C3NflB"
      }
    },
    {
      "cell_type": "code",
      "metadata": {
        "id": "SeMph_8DjQsH",
        "colab": {
          "base_uri": "https://localhost:8080/",
          "height": 332
        },
        "outputId": "29dbe0c1-cb77-4476-883f-4e92beb4965c"
      },
      "source": [
        "# Statistical characteristics of the dataset\n",
        "data_table.describe(percentiles=[.25, .75, .90])"
      ],
      "execution_count": 16,
      "outputs": [
        {
          "output_type": "execute_result",
          "data": {
            "text/html": [
              "\n",
              "  <div id=\"df-a977977f-d0b1-4de3-b12b-53ac65981b75\">\n",
              "    <div class=\"colab-df-container\">\n",
              "      <div>\n",
              "<style scoped>\n",
              "    .dataframe tbody tr th:only-of-type {\n",
              "        vertical-align: middle;\n",
              "    }\n",
              "\n",
              "    .dataframe tbody tr th {\n",
              "        vertical-align: top;\n",
              "    }\n",
              "\n",
              "    .dataframe thead th {\n",
              "        text-align: right;\n",
              "    }\n",
              "</style>\n",
              "<table border=\"1\" class=\"dataframe\">\n",
              "  <thead>\n",
              "    <tr style=\"text-align: right;\">\n",
              "      <th></th>\n",
              "      <th>Vaccinations</th>\n",
              "      <th>Vaccinated</th>\n",
              "      <th>Fully_Vaccinated</th>\n",
              "      <th>Vaccinations_Ratio</th>\n",
              "      <th>Vaccinated_Ratio</th>\n",
              "      <th>Fully_Vaccinated_Ratio</th>\n",
              "    </tr>\n",
              "  </thead>\n",
              "  <tbody>\n",
              "    <tr>\n",
              "      <th>count</th>\n",
              "      <td>4.441600e+04</td>\n",
              "      <td>4.236800e+04</td>\n",
              "      <td>3.968000e+04</td>\n",
              "      <td>44416.000000</td>\n",
              "      <td>42368.000000</td>\n",
              "      <td>39680.000000</td>\n",
              "    </tr>\n",
              "    <tr>\n",
              "      <th>mean</th>\n",
              "      <td>1.551962e+08</td>\n",
              "      <td>8.044456e+07</td>\n",
              "      <td>6.191693e+07</td>\n",
              "      <td>70.416227</td>\n",
              "      <td>37.375697</td>\n",
              "      <td>31.395963</td>\n",
              "    </tr>\n",
              "    <tr>\n",
              "      <th>std</th>\n",
              "      <td>7.146514e+08</td>\n",
              "      <td>3.731844e+08</td>\n",
              "      <td>3.019207e+08</td>\n",
              "      <td>62.189781</td>\n",
              "      <td>28.615809</td>\n",
              "      <td>27.333375</td>\n",
              "    </tr>\n",
              "    <tr>\n",
              "      <th>min</th>\n",
              "      <td>0.000000e+00</td>\n",
              "      <td>0.000000e+00</td>\n",
              "      <td>1.000000e+00</td>\n",
              "      <td>0.000000</td>\n",
              "      <td>0.000000</td>\n",
              "      <td>0.000000</td>\n",
              "    </tr>\n",
              "    <tr>\n",
              "      <th>25%</th>\n",
              "      <td>5.955178e+05</td>\n",
              "      <td>3.956628e+05</td>\n",
              "      <td>2.646492e+05</td>\n",
              "      <td>11.670000</td>\n",
              "      <td>8.430000</td>\n",
              "      <td>4.600000</td>\n",
              "    </tr>\n",
              "    <tr>\n",
              "      <th>50%</th>\n",
              "      <td>4.419004e+06</td>\n",
              "      <td>2.713338e+06</td>\n",
              "      <td>2.042351e+06</td>\n",
              "      <td>56.385000</td>\n",
              "      <td>35.570000</td>\n",
              "      <td>25.420000</td>\n",
              "    </tr>\n",
              "    <tr>\n",
              "      <th>75%</th>\n",
              "      <td>2.711137e+07</td>\n",
              "      <td>1.598297e+07</td>\n",
              "      <td>1.237331e+07</td>\n",
              "      <td>120.400000</td>\n",
              "      <td>64.010000</td>\n",
              "      <td>56.570000</td>\n",
              "    </tr>\n",
              "    <tr>\n",
              "      <th>90%</th>\n",
              "      <td>1.478994e+08</td>\n",
              "      <td>8.021985e+07</td>\n",
              "      <td>5.819107e+07</td>\n",
              "      <td>157.905000</td>\n",
              "      <td>76.030000</td>\n",
              "      <td>70.301000</td>\n",
              "    </tr>\n",
              "    <tr>\n",
              "      <th>max</th>\n",
              "      <td>1.034232e+10</td>\n",
              "      <td>4.860742e+09</td>\n",
              "      <td>4.239823e+09</td>\n",
              "      <td>331.950000</td>\n",
              "      <td>123.640000</td>\n",
              "      <td>120.930000</td>\n",
              "    </tr>\n",
              "  </tbody>\n",
              "</table>\n",
              "</div>\n",
              "      <button class=\"colab-df-convert\" onclick=\"convertToInteractive('df-a977977f-d0b1-4de3-b12b-53ac65981b75')\"\n",
              "              title=\"Convert this dataframe to an interactive table.\"\n",
              "              style=\"display:none;\">\n",
              "        \n",
              "  <svg xmlns=\"http://www.w3.org/2000/svg\" height=\"24px\"viewBox=\"0 0 24 24\"\n",
              "       width=\"24px\">\n",
              "    <path d=\"M0 0h24v24H0V0z\" fill=\"none\"/>\n",
              "    <path d=\"M18.56 5.44l.94 2.06.94-2.06 2.06-.94-2.06-.94-.94-2.06-.94 2.06-2.06.94zm-11 1L8.5 8.5l.94-2.06 2.06-.94-2.06-.94L8.5 2.5l-.94 2.06-2.06.94zm10 10l.94 2.06.94-2.06 2.06-.94-2.06-.94-.94-2.06-.94 2.06-2.06.94z\"/><path d=\"M17.41 7.96l-1.37-1.37c-.4-.4-.92-.59-1.43-.59-.52 0-1.04.2-1.43.59L10.3 9.45l-7.72 7.72c-.78.78-.78 2.05 0 2.83L4 21.41c.39.39.9.59 1.41.59.51 0 1.02-.2 1.41-.59l7.78-7.78 2.81-2.81c.8-.78.8-2.07 0-2.86zM5.41 20L4 18.59l7.72-7.72 1.47 1.35L5.41 20z\"/>\n",
              "  </svg>\n",
              "      </button>\n",
              "      \n",
              "  <style>\n",
              "    .colab-df-container {\n",
              "      display:flex;\n",
              "      flex-wrap:wrap;\n",
              "      gap: 12px;\n",
              "    }\n",
              "\n",
              "    .colab-df-convert {\n",
              "      background-color: #E8F0FE;\n",
              "      border: none;\n",
              "      border-radius: 50%;\n",
              "      cursor: pointer;\n",
              "      display: none;\n",
              "      fill: #1967D2;\n",
              "      height: 32px;\n",
              "      padding: 0 0 0 0;\n",
              "      width: 32px;\n",
              "    }\n",
              "\n",
              "    .colab-df-convert:hover {\n",
              "      background-color: #E2EBFA;\n",
              "      box-shadow: 0px 1px 2px rgba(60, 64, 67, 0.3), 0px 1px 3px 1px rgba(60, 64, 67, 0.15);\n",
              "      fill: #174EA6;\n",
              "    }\n",
              "\n",
              "    [theme=dark] .colab-df-convert {\n",
              "      background-color: #3B4455;\n",
              "      fill: #D2E3FC;\n",
              "    }\n",
              "\n",
              "    [theme=dark] .colab-df-convert:hover {\n",
              "      background-color: #434B5C;\n",
              "      box-shadow: 0px 1px 3px 1px rgba(0, 0, 0, 0.15);\n",
              "      filter: drop-shadow(0px 1px 2px rgba(0, 0, 0, 0.3));\n",
              "      fill: #FFFFFF;\n",
              "    }\n",
              "  </style>\n",
              "\n",
              "      <script>\n",
              "        const buttonEl =\n",
              "          document.querySelector('#df-a977977f-d0b1-4de3-b12b-53ac65981b75 button.colab-df-convert');\n",
              "        buttonEl.style.display =\n",
              "          google.colab.kernel.accessAllowed ? 'block' : 'none';\n",
              "\n",
              "        async function convertToInteractive(key) {\n",
              "          const element = document.querySelector('#df-a977977f-d0b1-4de3-b12b-53ac65981b75');\n",
              "          const dataTable =\n",
              "            await google.colab.kernel.invokeFunction('convertToInteractive',\n",
              "                                                     [key], {});\n",
              "          if (!dataTable) return;\n",
              "\n",
              "          const docLinkHtml = 'Like what you see? Visit the ' +\n",
              "            '<a target=\"_blank\" href=https://colab.research.google.com/notebooks/data_table.ipynb>data table notebook</a>'\n",
              "            + ' to learn more about interactive tables.';\n",
              "          element.innerHTML = '';\n",
              "          dataTable['output_type'] = 'display_data';\n",
              "          await google.colab.output.renderOutput(dataTable, element);\n",
              "          const docLink = document.createElement('div');\n",
              "          docLink.innerHTML = docLinkHtml;\n",
              "          element.appendChild(docLink);\n",
              "        }\n",
              "      </script>\n",
              "    </div>\n",
              "  </div>\n",
              "  "
            ],
            "text/plain": [
              "       Vaccinations    Vaccinated  ...  Vaccinated_Ratio  Fully_Vaccinated_Ratio\n",
              "count  4.441600e+04  4.236800e+04  ...      42368.000000            39680.000000\n",
              "mean   1.551962e+08  8.044456e+07  ...         37.375697               31.395963\n",
              "std    7.146514e+08  3.731844e+08  ...         28.615809               27.333375\n",
              "min    0.000000e+00  0.000000e+00  ...          0.000000                0.000000\n",
              "25%    5.955178e+05  3.956628e+05  ...          8.430000                4.600000\n",
              "50%    4.419004e+06  2.713338e+06  ...         35.570000               25.420000\n",
              "75%    2.711137e+07  1.598297e+07  ...         64.010000               56.570000\n",
              "90%    1.478994e+08  8.021985e+07  ...         76.030000               70.301000\n",
              "max    1.034232e+10  4.860742e+09  ...        123.640000              120.930000\n",
              "\n",
              "[9 rows x 6 columns]"
            ]
          },
          "metadata": {},
          "execution_count": 16
        }
      ]
    },
    {
      "cell_type": "markdown",
      "source": [
        "Vaccinations, %  | \tVaccinated, %  | \tFully_Vaccinated, %: \n",
        "> more than 100% - b/c several vaccination doses\n",
        "\n",
        "\n"
      ],
      "metadata": {
        "id": "niRO2zJZHaMG"
      }
    },
    {
      "cell_type": "markdown",
      "source": [
        "## Cleaning of dataset"
      ],
      "metadata": {
        "id": "dz3M84bTSj-7"
      }
    },
    {
      "cell_type": "markdown",
      "source": [
        "- Missing values analysis\n",
        "- Filling missing values"
      ],
      "metadata": {
        "id": "w93pYaMo_bwv"
      }
    },
    {
      "cell_type": "code",
      "source": [
        "# Missing values analysis\n",
        "data_table.isna().any()"
      ],
      "metadata": {
        "colab": {
          "base_uri": "https://localhost:8080/"
        },
        "id": "rwEW-n5QTavB",
        "outputId": "a73ff62a-54e6-4881-cd16-66bd4577763f"
      },
      "execution_count": 17,
      "outputs": [
        {
          "output_type": "execute_result",
          "data": {
            "text/plain": [
              "Country                   False\n",
              "Date                      False\n",
              "Vaccinations               True\n",
              "Vaccinated                 True\n",
              "Fully_Vaccinated           True\n",
              "Vaccinations_Ratio         True\n",
              "Vaccinated_Ratio           True\n",
              "Fully_Vaccinated_Ratio     True\n",
              "dtype: bool"
            ]
          },
          "metadata": {},
          "execution_count": 17
        }
      ]
    },
    {
      "cell_type": "code",
      "source": [
        "# Filling missing values with data using linear approximation\n",
        "\n",
        "countries = list(data_table.Country.unique())     # List of all countries and continents\n",
        "\n",
        "for country in countries:\n",
        "    data_table.loc[data_table['Country'] == country] = \\\n",
        "    data_table.loc[data_table['Country'] == country].interpolate(method='linear')"
      ],
      "metadata": {
        "id": "EXoy_gGGkXV0"
      },
      "execution_count": 19,
      "outputs": []
    },
    {
      "cell_type": "code",
      "source": [
        "data_table.head(1)"
      ],
      "metadata": {
        "id": "Z7APvzQiVvGq"
      },
      "execution_count": null,
      "outputs": []
    },
    {
      "cell_type": "markdown",
      "metadata": {
        "id": "64nU-u5E9WjD"
      },
      "source": [
        "## Descriptive analysis and visualisation in graphs"
      ]
    },
    {
      "cell_type": "markdown",
      "source": [
        "- Provide list of all countries and continents\n",
        "- Analyze the vaccination rates of any country or continent"
      ],
      "metadata": {
        "id": "NCQW0vauA7VP"
      }
    },
    {
      "cell_type": "code",
      "source": [
        "# List of all countries and continents\n",
        "print(*countries)"
      ],
      "metadata": {
        "colab": {
          "base_uri": "https://localhost:8080/"
        },
        "id": "BLTNmeWSl_Gw",
        "outputId": "c99e4439-d44f-4241-83cf-66f46b94a6ba"
      },
      "execution_count": 32,
      "outputs": [
        {
          "output_type": "stream",
          "name": "stdout",
          "text": [
            "Afghanistan Africa Albania Algeria Andorra Angola Anguilla Antigua and Barbuda Argentina Armenia Aruba Asia Australia Austria Azerbaijan Bahamas Bahrain Bangladesh Barbados Belarus Belgium Belize Benin Bermuda Bhutan Bolivia Bonaire Sint Eustatius and Saba Bosnia and Herzegovina Botswana Brazil British Virgin Islands Brunei Bulgaria Burkina Faso Burundi Cambodia Cameroon Canada Cape Verde Cayman Islands Central African Republic Chad Chile China Colombia Comoros Congo Cook Islands Costa Rica Cote d'Ivoire Croatia Cuba Curacao Cyprus Czechia Democratic Republic of Congo Denmark Djibouti Dominica Dominican Republic Ecuador Egypt El Salvador England Equatorial Guinea Estonia Eswatini Ethiopia Europe European Union Faeroe Islands Falkland Islands Fiji Finland France French Polynesia Gabon Gambia Georgia Germany Ghana Gibraltar Greece Greenland Grenada Guatemala Guernsey Guinea Guinea-Bissau Guyana Haiti High income Honduras Hong Kong Hungary Iceland India Indonesia Iran Iraq Ireland Isle of Man Israel Italy Jamaica Japan Jersey Jordan Kazakhstan Kenya Kiribati Kosovo Kuwait Kyrgyzstan Laos Latvia Lebanon Lesotho Liberia Libya Liechtenstein Lithuania Low income Lower middle income Luxembourg Macao Madagascar Malawi Malaysia Maldives Mali Malta Mauritania Mauritius Mexico Moldova Monaco Mongolia Montenegro Montserrat Morocco Mozambique Myanmar Namibia Nauru Nepal Netherlands New Caledonia New Zealand Nicaragua Niger Nigeria Niue North America North Macedonia Northern Cyprus Northern Ireland Norway Oceania Oman Pakistan Palestine Panama Papua New Guinea Paraguay Peru Philippines Pitcairn Poland Portugal Qatar Romania Russia Rwanda Saint Helena Saint Kitts and Nevis Saint Lucia Saint Vincent and the Grenadines Samoa San Marino Sao Tome and Principe Saudi Arabia Scotland Senegal Serbia Seychelles Sierra Leone Singapore Sint Maarten (Dutch part) Slovakia Slovenia Solomon Islands Somalia South Africa South America South Korea South Sudan Spain Sri Lanka Sudan Suriname Sweden Switzerland Syria Taiwan Tajikistan Tanzania Thailand Timor Togo Tokelau Tonga Trinidad and Tobago Tunisia Turkey Turkmenistan Turks and Caicos Islands Tuvalu Uganda Ukraine United Arab Emirates United Kingdom United States Upper middle income Uruguay Uzbekistan Vanuatu Venezuela Vietnam Wales Wallis and Futuna World Yemen Zambia Zimbabwe\n"
          ]
        }
      ]
    },
    {
      "cell_type": "code",
      "metadata": {
        "id": "hCqmE83qUa7F",
        "colab": {
          "base_uri": "https://localhost:8080/",
          "height": 324
        },
        "outputId": "021ea44a-dc15-4a84-86da-f69e68f4680a"
      },
      "source": [
        "# Analyze the vaccination rates of any country or continent\n",
        "\n",
        "# List of the months\n",
        "months = ['January', 'February', 'March', 'April', 'May', 'June', 'July', 'August', 'September', 'October', 'November', 'December'] \n",
        "\n",
        "country = input('Enter the country: ')\n",
        "\n",
        "x = list(data_table[data_table['Country'] == country].Date)\n",
        "y = data_table[data_table['Country'] == country].Vaccinations\n",
        "\n",
        "f1 = plt.figure(1)\n",
        "\n",
        "plt.title(f'Vaccinations in {country}')\n",
        "plt.xlabel('Month')\n",
        "plt.ylabel('Vaccination rates')\n",
        "\n",
        "# Data ticks - middle of the months - 15th days\n",
        "tick_values = [index for index,value in enumerate(x) if '-15' in value]\n",
        "\n",
        "# Creating names of the months for the ticks\n",
        "tick_names = []\n",
        "for i in tick_values:\n",
        "    tick_names.append(months[int(str(x[i])[5:7])-1]) \n",
        "tick_names_new = [elem[:3] for elem in tick_names]\n",
        "\n",
        "plt.xticks(tick_values, tick_names_new, rotation =45, color='grey')\n",
        "plt.yticks(color='grey')\n",
        "\n",
        "\n",
        "plt.plot(x, y, linewidth=2, color='green')  \n",
        "f1.show()"
      ],
      "execution_count": 31,
      "outputs": [
        {
          "name": "stdout",
          "output_type": "stream",
          "text": [
            "Enter the country: Sweden\n"
          ]
        },
        {
          "output_type": "display_data",
          "data": {
            "image/png": "[encoded data removed]",
            "text/plain": [
              "<Figure size 432x288 with 1 Axes>"
            ]
          },
          "metadata": {
            "needs_background": "dark"
          }
        }
      ]
    },
    {
      "cell_type": "markdown",
      "source": [
        "## Predictive analysis"
      ],
      "metadata": {
        "id": "1FfCaH044KjS"
      }
    },
    {
      "cell_type": "markdown",
      "source": [
        "- Prediction of the end of vaccination of population of any continent\n",
        "- Prediction created using linear approximation for the recent data obtained"
      ],
      "metadata": {
        "id": "oYsFNP1iCyg6"
      }
    },
    {
      "cell_type": "code",
      "source": [
        "country = input('Enter the continent (South America, North America, Europe, Asia, Australia, Africa): ')\n",
        "\n",
        "x = list(data_table[data_table['Country'] == country].Date)\n",
        "y = data_table[data_table['Country'] == country].Fully_Vaccinated_Ratio\n",
        "\n",
        "f1 = plt.figure(1)\n",
        "\n",
        "plt.title(f'Vaccinations in {country}')\n",
        "plt.xlabel('Month')\n",
        "plt.ylabel('Share of fully vaccinated, %')\n",
        "\n",
        "# Data ticks - middle of the months - 15th days\n",
        "tick_values = [index for index,value in enumerate(x) if '-15' in value]\n",
        "# Creating names of the months for the ticks\n",
        "tick_names = []\n",
        "for i in tick_values:\n",
        "    tick_names.append(months[int(str(x[i])[5:7])-1]) \n",
        "tick_names_new = [elem[:3] for elem in tick_names]\n",
        "\n",
        "plt.xticks(tick_values, tick_names_new, rotation =45, color='grey')\n",
        "plt.yticks(color='grey')\n",
        "\n",
        "\n",
        "plt.plot(x, y, linewidth=2, color='green')  \n",
        "f1.show()\n",
        "\n",
        "'''________________________________________________________________'''\n",
        "\n",
        "# Choose the right (recent data) site of the graph and use linear approximation\n",
        "\n",
        "x = list(data_table[data_table['Country'] == country].Date)\n",
        "x = x[int(len(x)*3/4):]\n",
        "\n",
        "y = data_table[data_table['Country'] == country].Fully_Vaccinated_Ratio\n",
        "y = y[int(len(y)*3/4):]\n",
        "\n",
        "f2 = plt.figure(2)\n",
        "\n",
        "plt.title(f'Vaccinations in {country}')\n",
        "plt.xlabel('Month')\n",
        "plt.ylabel('Share of fully vaccinated, %')\n",
        "\n",
        "\n",
        "# Data ticks - middle of the months - 15th days\n",
        "tick_values = [index for index,value in enumerate(x) if '-15' in value]\n",
        "\n",
        "# Creating names of the months for the ticks\n",
        "tick_names = []\n",
        "for i in tick_values:\n",
        "    tick_names.append(months[int(str(x[i])[5:7])-1]) \n",
        "tick_names_new = [elem[:3] for elem in tick_names]\n",
        "\n",
        "first_day = x[0]\n",
        "x = range(len(x))\n",
        "\n",
        "plt.xticks(tick_values, tick_names_new, rotation =45, color='grey')\n",
        "plt.yticks(color='grey')\n",
        "\n",
        "approximation = sps.linregress(x,y)\n",
        "plt.plot(x, approximation.intercept + approximation.slope*x, 'r', linewidth=3, label='fitted line')\n",
        "\n",
        "plt.plot(x, y, linewidth=3, color='green', label='raw data')  \n",
        "plt.legend()\n",
        "f2.show()\n",
        "\n",
        "'''____________________________________________________________________________'''\n",
        "\n",
        "# Calculate the day of the end of vaccinations\n",
        "# y = k * x + b\n",
        "k = approximation.slope\n",
        "b = approximation.intercept\n",
        "\n",
        "days_left = (100.0 - b)/k             # number of days till the end of vaccination\n",
        "final_day = datetime.strptime(first_day, '%Y-%m-%d') + timedelta(days=days_left)\n",
        "final_day = datetime.date(final_day)  # the day of the end of vaccinations\n",
        "\n",
        "print(f'The day of the end of vaccinations: {final_day}')"
      ],
      "metadata": {
        "colab": {
          "base_uri": "https://localhost:8080/",
          "height": 631
        },
        "id": "M4lGk5oo17SF",
        "outputId": "ff3d9e6e-fee6-4d5e-d852-0f6498ae7fd9"
      },
      "execution_count": 25,
      "outputs": [
        {
          "output_type": "stream",
          "name": "stdout",
          "text": [
            "Enter the continent (South America, North America, Europe, Asia, Australia, Africa): Europe\n",
            "The day of the end of vaccinations: 2023-03-06\n"
          ]
        },
        {
          "output_type": "display_data",
          "data": {
            "image/png": "[encoded data removed]",
            "text/plain": [
              "<Figure size 432x288 with 1 Axes>"
            ]
          },
          "metadata": {
            "needs_background": "dark"
          }
        },
        {
          "output_type": "display_data",
          "data": {
            "image/png": "[encoded data removed]",
            "text/plain": [
              "<Figure size 432x288 with 1 Axes>"
            ]
          },
          "metadata": {
            "needs_background": "dark"
          }
        }
      ]
    }
  ]
}