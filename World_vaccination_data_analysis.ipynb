{
  "nbformat": 4,
  "nbformat_minor": 0,
  "metadata": {
    "colab": {
      "name": "Copy of Data_analysis_Project 15-12-21.ipynb",
      "provenance": [],
      "collapsed_sections": [
        "JKQoi0K__nY7",
        "9Ipsznvd_eNu",
        "y7f6Nk69gmJ4",
        "dz3M84bTSj-7",
        "64nU-u5E9WjD",
        "1FfCaH044KjS"
      ],
      "toc_visible": true,
      "authorship_tag": "ABX9TyNY2FRMxxtsqSXeHu6YrAkb",
      "include_colab_link": true
    },
    "kernelspec": {
      "name": "python3",
      "display_name": "Python 3"
    },
    "language_info": {
      "name": "python"
    }
  },
  "cells": [
    {
      "cell_type": "markdown",
      "metadata": {
        "id": "view-in-github",
        "colab_type": "text"
      },
      "source": [
        "<a href=\"https://colab.research.google.com/github/KonstantinBurkin/World_vaccination_data_analysis/blob/main/Copy_of_Data_analysis_Project_15_12_21.ipynb\" target=\"_parent\"><img src=\"https://colab.research.google.com/assets/colab-badge.svg\" alt=\"Open In Colab\"/></a>"
      ]
    },
    {
      "cell_type": "markdown",
      "metadata": {
        "id": "a7cOIzVjWvuQ"
      },
      "source": [
        "#**Проект \"World vaccination data analysis\" для МФК Основы программирования и анализа данных на Python**###\n",
        "\n",
        "Данные из:\n",
        "https://www.kaggle.com/gpreda/covid-world-vaccination-progress\n",
        "https://github.com/owid/covid-19-data"
      ]
    },
    {
      "cell_type": "markdown",
      "source": [
        "## Импорт необходимых библиотек"
      ],
      "metadata": {
        "id": "JKQoi0K__nY7"
      }
    },
    {
      "cell_type": "code",
      "metadata": {
        "id": "8tfNZSX6ej1v"
      },
      "source": [
        "# импортирую все библиотеки, которые буду использовать\n",
        "from google.colab import output\n",
        "import matplotlib.pyplot as plt\n",
        "import numpy as np\n",
        "import pandas as pd\n",
        "import scipy.stats as sps\n",
        "from datetime import timedelta, date, datetime"
      ],
      "execution_count": null,
      "outputs": []
    },
    {
      "cell_type": "markdown",
      "source": [
        "## Скачиваю Датасет"
      ],
      "metadata": {
        "id": "9Ipsznvd_eNu"
      }
    },
    {
      "cell_type": "code",
      "metadata": {
        "id": "Qm7TNTBJeeyk"
      },
      "source": [
        "# скачиваю файл с данными о вакцинациях в разных странах с github\n",
        "!wget -O \"vaccinations.csv\" \"https://raw.githubusercontent.com/owid/covid-19-data/master/public/data/vaccinations/vaccinations.csv\"\n",
        "output.clear()"
      ],
      "execution_count": null,
      "outputs": []
    },
    {
      "cell_type": "markdown",
      "metadata": {
        "id": "y7f6Nk69gmJ4"
      },
      "source": [
        "## Анализ таблицы с помощью pandas"
      ]
    },
    {
      "cell_type": "code",
      "metadata": {
        "id": "0BtTuJP0e2eO"
      },
      "source": [
        "# сохраняю данные во внутренних переменных с помощью pandas\n",
        "data_table = pd.read_csv(\"vaccinations.csv\")"
      ],
      "execution_count": null,
      "outputs": []
    },
    {
      "cell_type": "code",
      "metadata": {
        "id": "_DzEY1MUgINr",
        "colab": {
          "base_uri": "https://localhost:8080/",
          "height": 162
        },
        "outputId": "a6ce6805-4861-4ed7-cee7-60d6bdda85b9"
      },
      "source": [
        "# вывожу пример первых колонок с названиями столбцов\n",
        "data_table.head(1)"
      ],
      "execution_count": null,
      "outputs": [
        {
          "output_type": "execute_result",
          "data": {
            "text/html": [
              "\n",
              "  <div id=\"df-cc2a6ed4-3c2a-490c-9ea3-cbc3a2ce4d63\">\n",
              "    <div class=\"colab-df-container\">\n",
              "      <div>\n",
              "<style scoped>\n",
              "    .dataframe tbody tr th:only-of-type {\n",
              "        vertical-align: middle;\n",
              "    }\n",
              "\n",
              "    .dataframe tbody tr th {\n",
              "        vertical-align: top;\n",
              "    }\n",
              "\n",
              "    .dataframe thead th {\n",
              "        text-align: right;\n",
              "    }\n",
              "</style>\n",
              "<table border=\"1\" class=\"dataframe\">\n",
              "  <thead>\n",
              "    <tr style=\"text-align: right;\">\n",
              "      <th></th>\n",
              "      <th>location</th>\n",
              "      <th>iso_code</th>\n",
              "      <th>date</th>\n",
              "      <th>total_vaccinations</th>\n",
              "      <th>people_vaccinated</th>\n",
              "      <th>people_fully_vaccinated</th>\n",
              "      <th>total_boosters</th>\n",
              "      <th>daily_vaccinations_raw</th>\n",
              "      <th>daily_vaccinations</th>\n",
              "      <th>total_vaccinations_per_hundred</th>\n",
              "      <th>people_vaccinated_per_hundred</th>\n",
              "      <th>people_fully_vaccinated_per_hundred</th>\n",
              "      <th>total_boosters_per_hundred</th>\n",
              "      <th>daily_vaccinations_per_million</th>\n",
              "      <th>daily_people_vaccinated</th>\n",
              "      <th>daily_people_vaccinated_per_hundred</th>\n",
              "    </tr>\n",
              "  </thead>\n",
              "  <tbody>\n",
              "    <tr>\n",
              "      <th>0</th>\n",
              "      <td>Afghanistan</td>\n",
              "      <td>AFG</td>\n",
              "      <td>2021-02-22</td>\n",
              "      <td>0.0</td>\n",
              "      <td>0.0</td>\n",
              "      <td>NaN</td>\n",
              "      <td>NaN</td>\n",
              "      <td>NaN</td>\n",
              "      <td>NaN</td>\n",
              "      <td>0.0</td>\n",
              "      <td>0.0</td>\n",
              "      <td>NaN</td>\n",
              "      <td>NaN</td>\n",
              "      <td>NaN</td>\n",
              "      <td>NaN</td>\n",
              "      <td>NaN</td>\n",
              "    </tr>\n",
              "  </tbody>\n",
              "</table>\n",
              "</div>\n",
              "      <button class=\"colab-df-convert\" onclick=\"convertToInteractive('df-cc2a6ed4-3c2a-490c-9ea3-cbc3a2ce4d63')\"\n",
              "              title=\"Convert this dataframe to an interactive table.\"\n",
              "              style=\"display:none;\">\n",
              "        \n",
              "  <svg xmlns=\"http://www.w3.org/2000/svg\" height=\"24px\"viewBox=\"0 0 24 24\"\n",
              "       width=\"24px\">\n",
              "    <path d=\"M0 0h24v24H0V0z\" fill=\"none\"/>\n",
              "    <path d=\"M18.56 5.44l.94 2.06.94-2.06 2.06-.94-2.06-.94-.94-2.06-.94 2.06-2.06.94zm-11 1L8.5 8.5l.94-2.06 2.06-.94-2.06-.94L8.5 2.5l-.94 2.06-2.06.94zm10 10l.94 2.06.94-2.06 2.06-.94-2.06-.94-.94-2.06-.94 2.06-2.06.94z\"/><path d=\"M17.41 7.96l-1.37-1.37c-.4-.4-.92-.59-1.43-.59-.52 0-1.04.2-1.43.59L10.3 9.45l-7.72 7.72c-.78.78-.78 2.05 0 2.83L4 21.41c.39.39.9.59 1.41.59.51 0 1.02-.2 1.41-.59l7.78-7.78 2.81-2.81c.8-.78.8-2.07 0-2.86zM5.41 20L4 18.59l7.72-7.72 1.47 1.35L5.41 20z\"/>\n",
              "  </svg>\n",
              "      </button>\n",
              "      \n",
              "  <style>\n",
              "    .colab-df-container {\n",
              "      display:flex;\n",
              "      flex-wrap:wrap;\n",
              "      gap: 12px;\n",
              "    }\n",
              "\n",
              "    .colab-df-convert {\n",
              "      background-color: #E8F0FE;\n",
              "      border: none;\n",
              "      border-radius: 50%;\n",
              "      cursor: pointer;\n",
              "      display: none;\n",
              "      fill: #1967D2;\n",
              "      height: 32px;\n",
              "      padding: 0 0 0 0;\n",
              "      width: 32px;\n",
              "    }\n",
              "\n",
              "    .colab-df-convert:hover {\n",
              "      background-color: #E2EBFA;\n",
              "      box-shadow: 0px 1px 2px rgba(60, 64, 67, 0.3), 0px 1px 3px 1px rgba(60, 64, 67, 0.15);\n",
              "      fill: #174EA6;\n",
              "    }\n",
              "\n",
              "    [theme=dark] .colab-df-convert {\n",
              "      background-color: #3B4455;\n",
              "      fill: #D2E3FC;\n",
              "    }\n",
              "\n",
              "    [theme=dark] .colab-df-convert:hover {\n",
              "      background-color: #434B5C;\n",
              "      box-shadow: 0px 1px 3px 1px rgba(0, 0, 0, 0.15);\n",
              "      filter: drop-shadow(0px 1px 2px rgba(0, 0, 0, 0.3));\n",
              "      fill: #FFFFFF;\n",
              "    }\n",
              "  </style>\n",
              "\n",
              "      <script>\n",
              "        const buttonEl =\n",
              "          document.querySelector('#df-cc2a6ed4-3c2a-490c-9ea3-cbc3a2ce4d63 button.colab-df-convert');\n",
              "        buttonEl.style.display =\n",
              "          google.colab.kernel.accessAllowed ? 'block' : 'none';\n",
              "\n",
              "        async function convertToInteractive(key) {\n",
              "          const element = document.querySelector('#df-cc2a6ed4-3c2a-490c-9ea3-cbc3a2ce4d63');\n",
              "          const dataTable =\n",
              "            await google.colab.kernel.invokeFunction('convertToInteractive',\n",
              "                                                     [key], {});\n",
              "          if (!dataTable) return;\n",
              "\n",
              "          const docLinkHtml = 'Like what you see? Visit the ' +\n",
              "            '<a target=\"_blank\" href=https://colab.research.google.com/notebooks/data_table.ipynb>data table notebook</a>'\n",
              "            + ' to learn more about interactive tables.';\n",
              "          element.innerHTML = '';\n",
              "          dataTable['output_type'] = 'display_data';\n",
              "          await google.colab.output.renderOutput(dataTable, element);\n",
              "          const docLink = document.createElement('div');\n",
              "          docLink.innerHTML = docLinkHtml;\n",
              "          element.appendChild(docLink);\n",
              "        }\n",
              "      </script>\n",
              "    </div>\n",
              "  </div>\n",
              "  "
            ],
            "text/plain": [
              "      location  ... daily_people_vaccinated_per_hundred\n",
              "0  Afghanistan  ...                                 NaN\n",
              "\n",
              "[1 rows x 16 columns]"
            ]
          },
          "metadata": {},
          "execution_count": 4
        }
      ]
    },
    {
      "cell_type": "code",
      "source": [
        "# удаляю столбцы с неинтересующими меня данными, Переименовываю 'location' в 'country'.\n",
        "data_table.drop(labels=['daily_vaccinations_raw', 'daily_vaccinations', 'iso_code', 'daily_people_vaccinated', 'daily_people_vaccinated_per_hundred', 'daily_vaccinations_per_million', 'total_boosters', 'total_boosters_per_hundred'], axis='columns', inplace=True)\n",
        "data_table.rename(columns={'location': 'country'}, inplace=True)"
      ],
      "metadata": {
        "id": "5cjZjBVZBgYg"
      },
      "execution_count": null,
      "outputs": []
    },
    {
      "cell_type": "code",
      "source": [
        "# обрабатываю названия колонок\n",
        "def column_name_preprocess(col_name):\n",
        "    for char in ['total_', 'people_']:\n",
        "        col_name = col_name.replace(char, '')\n",
        "        col_name = col_name.replace('_per_hundred', '_ratio')\n",
        "    return col_name\n",
        "\n",
        "column_names = data_table.columns\n",
        "data_table.columns = [column_name_preprocess(col_name).title() for col_name in column_names]\n",
        "# print(data_table.columns)"
      ],
      "metadata": {
        "id": "kb18QH8RLiRz"
      },
      "execution_count": null,
      "outputs": []
    },
    {
      "cell_type": "code",
      "source": [
        "# вывожу пример первых колонок с названиями столбцов\n",
        "data_table.head(10)"
      ],
      "metadata": {
        "colab": {
          "base_uri": "https://localhost:8080/",
          "height": 363
        },
        "id": "NBlKjro_JE8-",
        "outputId": "2b59ebe0-c065-49a8-829c-175b60cc2edf"
      },
      "execution_count": null,
      "outputs": [
        {
          "output_type": "execute_result",
          "data": {
            "text/html": [
              "\n",
              "  <div id=\"df-2dc7384b-032c-4999-99e4-bb151878d9dd\">\n",
              "    <div class=\"colab-df-container\">\n",
              "      <div>\n",
              "<style scoped>\n",
              "    .dataframe tbody tr th:only-of-type {\n",
              "        vertical-align: middle;\n",
              "    }\n",
              "\n",
              "    .dataframe tbody tr th {\n",
              "        vertical-align: top;\n",
              "    }\n",
              "\n",
              "    .dataframe thead th {\n",
              "        text-align: right;\n",
              "    }\n",
              "</style>\n",
              "<table border=\"1\" class=\"dataframe\">\n",
              "  <thead>\n",
              "    <tr style=\"text-align: right;\">\n",
              "      <th></th>\n",
              "      <th>Country</th>\n",
              "      <th>Date</th>\n",
              "      <th>Vaccinations</th>\n",
              "      <th>Vaccinated</th>\n",
              "      <th>Fully_Vaccinated</th>\n",
              "      <th>Vaccinations_Ratio</th>\n",
              "      <th>Vaccinated_Ratio</th>\n",
              "      <th>Fully_Vaccinated_Ratio</th>\n",
              "    </tr>\n",
              "  </thead>\n",
              "  <tbody>\n",
              "    <tr>\n",
              "      <th>0</th>\n",
              "      <td>Afghanistan</td>\n",
              "      <td>2021-02-22</td>\n",
              "      <td>0.0</td>\n",
              "      <td>0.0</td>\n",
              "      <td>NaN</td>\n",
              "      <td>0.00</td>\n",
              "      <td>0.00</td>\n",
              "      <td>NaN</td>\n",
              "    </tr>\n",
              "    <tr>\n",
              "      <th>1</th>\n",
              "      <td>Afghanistan</td>\n",
              "      <td>2021-02-23</td>\n",
              "      <td>NaN</td>\n",
              "      <td>NaN</td>\n",
              "      <td>NaN</td>\n",
              "      <td>NaN</td>\n",
              "      <td>NaN</td>\n",
              "      <td>NaN</td>\n",
              "    </tr>\n",
              "    <tr>\n",
              "      <th>2</th>\n",
              "      <td>Afghanistan</td>\n",
              "      <td>2021-02-24</td>\n",
              "      <td>NaN</td>\n",
              "      <td>NaN</td>\n",
              "      <td>NaN</td>\n",
              "      <td>NaN</td>\n",
              "      <td>NaN</td>\n",
              "      <td>NaN</td>\n",
              "    </tr>\n",
              "    <tr>\n",
              "      <th>3</th>\n",
              "      <td>Afghanistan</td>\n",
              "      <td>2021-02-25</td>\n",
              "      <td>NaN</td>\n",
              "      <td>NaN</td>\n",
              "      <td>NaN</td>\n",
              "      <td>NaN</td>\n",
              "      <td>NaN</td>\n",
              "      <td>NaN</td>\n",
              "    </tr>\n",
              "    <tr>\n",
              "      <th>4</th>\n",
              "      <td>Afghanistan</td>\n",
              "      <td>2021-02-26</td>\n",
              "      <td>NaN</td>\n",
              "      <td>NaN</td>\n",
              "      <td>NaN</td>\n",
              "      <td>NaN</td>\n",
              "      <td>NaN</td>\n",
              "      <td>NaN</td>\n",
              "    </tr>\n",
              "    <tr>\n",
              "      <th>5</th>\n",
              "      <td>Afghanistan</td>\n",
              "      <td>2021-02-27</td>\n",
              "      <td>NaN</td>\n",
              "      <td>NaN</td>\n",
              "      <td>NaN</td>\n",
              "      <td>NaN</td>\n",
              "      <td>NaN</td>\n",
              "      <td>NaN</td>\n",
              "    </tr>\n",
              "    <tr>\n",
              "      <th>6</th>\n",
              "      <td>Afghanistan</td>\n",
              "      <td>2021-02-28</td>\n",
              "      <td>8200.0</td>\n",
              "      <td>8200.0</td>\n",
              "      <td>NaN</td>\n",
              "      <td>0.02</td>\n",
              "      <td>0.02</td>\n",
              "      <td>NaN</td>\n",
              "    </tr>\n",
              "    <tr>\n",
              "      <th>7</th>\n",
              "      <td>Afghanistan</td>\n",
              "      <td>2021-03-01</td>\n",
              "      <td>NaN</td>\n",
              "      <td>NaN</td>\n",
              "      <td>NaN</td>\n",
              "      <td>NaN</td>\n",
              "      <td>NaN</td>\n",
              "      <td>NaN</td>\n",
              "    </tr>\n",
              "    <tr>\n",
              "      <th>8</th>\n",
              "      <td>Afghanistan</td>\n",
              "      <td>2021-03-02</td>\n",
              "      <td>NaN</td>\n",
              "      <td>NaN</td>\n",
              "      <td>NaN</td>\n",
              "      <td>NaN</td>\n",
              "      <td>NaN</td>\n",
              "      <td>NaN</td>\n",
              "    </tr>\n",
              "    <tr>\n",
              "      <th>9</th>\n",
              "      <td>Afghanistan</td>\n",
              "      <td>2021-03-03</td>\n",
              "      <td>NaN</td>\n",
              "      <td>NaN</td>\n",
              "      <td>NaN</td>\n",
              "      <td>NaN</td>\n",
              "      <td>NaN</td>\n",
              "      <td>NaN</td>\n",
              "    </tr>\n",
              "  </tbody>\n",
              "</table>\n",
              "</div>\n",
              "      <button class=\"colab-df-convert\" onclick=\"convertToInteractive('df-2dc7384b-032c-4999-99e4-bb151878d9dd')\"\n",
              "              title=\"Convert this dataframe to an interactive table.\"\n",
              "              style=\"display:none;\">\n",
              "        \n",
              "  <svg xmlns=\"http://www.w3.org/2000/svg\" height=\"24px\"viewBox=\"0 0 24 24\"\n",
              "       width=\"24px\">\n",
              "    <path d=\"M0 0h24v24H0V0z\" fill=\"none\"/>\n",
              "    <path d=\"M18.56 5.44l.94 2.06.94-2.06 2.06-.94-2.06-.94-.94-2.06-.94 2.06-2.06.94zm-11 1L8.5 8.5l.94-2.06 2.06-.94-2.06-.94L8.5 2.5l-.94 2.06-2.06.94zm10 10l.94 2.06.94-2.06 2.06-.94-2.06-.94-.94-2.06-.94 2.06-2.06.94z\"/><path d=\"M17.41 7.96l-1.37-1.37c-.4-.4-.92-.59-1.43-.59-.52 0-1.04.2-1.43.59L10.3 9.45l-7.72 7.72c-.78.78-.78 2.05 0 2.83L4 21.41c.39.39.9.59 1.41.59.51 0 1.02-.2 1.41-.59l7.78-7.78 2.81-2.81c.8-.78.8-2.07 0-2.86zM5.41 20L4 18.59l7.72-7.72 1.47 1.35L5.41 20z\"/>\n",
              "  </svg>\n",
              "      </button>\n",
              "      \n",
              "  <style>\n",
              "    .colab-df-container {\n",
              "      display:flex;\n",
              "      flex-wrap:wrap;\n",
              "      gap: 12px;\n",
              "    }\n",
              "\n",
              "    .colab-df-convert {\n",
              "      background-color: #E8F0FE;\n",
              "      border: none;\n",
              "      border-radius: 50%;\n",
              "      cursor: pointer;\n",
              "      display: none;\n",
              "      fill: #1967D2;\n",
              "      height: 32px;\n",
              "      padding: 0 0 0 0;\n",
              "      width: 32px;\n",
              "    }\n",
              "\n",
              "    .colab-df-convert:hover {\n",
              "      background-color: #E2EBFA;\n",
              "      box-shadow: 0px 1px 2px rgba(60, 64, 67, 0.3), 0px 1px 3px 1px rgba(60, 64, 67, 0.15);\n",
              "      fill: #174EA6;\n",
              "    }\n",
              "\n",
              "    [theme=dark] .colab-df-convert {\n",
              "      background-color: #3B4455;\n",
              "      fill: #D2E3FC;\n",
              "    }\n",
              "\n",
              "    [theme=dark] .colab-df-convert:hover {\n",
              "      background-color: #434B5C;\n",
              "      box-shadow: 0px 1px 3px 1px rgba(0, 0, 0, 0.15);\n",
              "      filter: drop-shadow(0px 1px 2px rgba(0, 0, 0, 0.3));\n",
              "      fill: #FFFFFF;\n",
              "    }\n",
              "  </style>\n",
              "\n",
              "      <script>\n",
              "        const buttonEl =\n",
              "          document.querySelector('#df-2dc7384b-032c-4999-99e4-bb151878d9dd button.colab-df-convert');\n",
              "        buttonEl.style.display =\n",
              "          google.colab.kernel.accessAllowed ? 'block' : 'none';\n",
              "\n",
              "        async function convertToInteractive(key) {\n",
              "          const element = document.querySelector('#df-2dc7384b-032c-4999-99e4-bb151878d9dd');\n",
              "          const dataTable =\n",
              "            await google.colab.kernel.invokeFunction('convertToInteractive',\n",
              "                                                     [key], {});\n",
              "          if (!dataTable) return;\n",
              "\n",
              "          const docLinkHtml = 'Like what you see? Visit the ' +\n",
              "            '<a target=\"_blank\" href=https://colab.research.google.com/notebooks/data_table.ipynb>data table notebook</a>'\n",
              "            + ' to learn more about interactive tables.';\n",
              "          element.innerHTML = '';\n",
              "          dataTable['output_type'] = 'display_data';\n",
              "          await google.colab.output.renderOutput(dataTable, element);\n",
              "          const docLink = document.createElement('div');\n",
              "          docLink.innerHTML = docLinkHtml;\n",
              "          element.appendChild(docLink);\n",
              "        }\n",
              "      </script>\n",
              "    </div>\n",
              "  </div>\n",
              "  "
            ],
            "text/plain": [
              "       Country        Date  ...  Vaccinated_Ratio  Fully_Vaccinated_Ratio\n",
              "0  Afghanistan  2021-02-22  ...              0.00                     NaN\n",
              "1  Afghanistan  2021-02-23  ...               NaN                     NaN\n",
              "2  Afghanistan  2021-02-24  ...               NaN                     NaN\n",
              "3  Afghanistan  2021-02-25  ...               NaN                     NaN\n",
              "4  Afghanistan  2021-02-26  ...               NaN                     NaN\n",
              "5  Afghanistan  2021-02-27  ...               NaN                     NaN\n",
              "6  Afghanistan  2021-02-28  ...              0.02                     NaN\n",
              "7  Afghanistan  2021-03-01  ...               NaN                     NaN\n",
              "8  Afghanistan  2021-03-02  ...               NaN                     NaN\n",
              "9  Afghanistan  2021-03-03  ...               NaN                     NaN\n",
              "\n",
              "[10 rows x 8 columns]"
            ]
          },
          "metadata": {},
          "execution_count": 7
        }
      ]
    },
    {
      "cell_type": "code",
      "metadata": {
        "id": "zJAJML-giaWU",
        "colab": {
          "base_uri": "https://localhost:8080/"
        },
        "outputId": "7e026a8a-8706-49a4-f6cb-458401fbb3fc"
      },
      "source": [
        "data_table.info()"
      ],
      "execution_count": null,
      "outputs": [
        {
          "output_type": "stream",
          "name": "stdout",
          "text": [
            "<class 'pandas.core.frame.DataFrame'>\n",
            "RangeIndex: 77055 entries, 0 to 77054\n",
            "Data columns (total 8 columns):\n",
            " #   Column                  Non-Null Count  Dtype  \n",
            "---  ------                  --------------  -----  \n",
            " 0   Country                 77055 non-null  object \n",
            " 1   Date                    77055 non-null  object \n",
            " 2   Vaccinations            42630 non-null  float64\n",
            " 3   Vaccinated              40689 non-null  float64\n",
            " 4   Fully_Vaccinated        37767 non-null  float64\n",
            " 5   Vaccinations_Ratio      42630 non-null  float64\n",
            " 6   Vaccinated_Ratio        40689 non-null  float64\n",
            " 7   Fully_Vaccinated_Ratio  37767 non-null  float64\n",
            "dtypes: float64(6), object(2)\n",
            "memory usage: 4.7+ MB\n"
          ]
        }
      ]
    },
    {
      "cell_type": "markdown",
      "source": [
        "Подробная расшифровка обозначений\n",
        "* Country - this is the country for which the vaccination information is \n",
        "provided;\t**Категориальный, номинальный**\n",
        "* Date - date for the data entry; **Категориальный, порядковый**\n",
        "* Vaccinations - this is the absolute number of total immunizations in the country; **Числовой, непрерывный**\n",
        "* Vaccinated - a person, depending on the immunization scheme, will receive one or more (typically 2) vaccines; at a certain moment, the number of vaccination might be larger than the number of people; **Числовой, непрерывный**\n",
        "* Fully_Vaccinated - this is the number of people that received the entire set of immunization according to the immunization scheme (typically 2); **Числовой, непрерывный**\n",
        "* Vaccinations, % -  ratio between vaccination number and total population up to the date in the country; **Числовой, непрерывный**\n",
        "* Vaccinated, % - ratio between population immunized and total population up to the date in the country; **Числовой, непрерывный**\n",
        "* Fully_Vaccinated, % - ratio between population fully immunized and total population up to the date in the country; **Числовой, непрерывный**"
      ],
      "metadata": {
        "id": "fQJVy4C3NflB"
      }
    },
    {
      "cell_type": "code",
      "metadata": {
        "id": "SeMph_8DjQsH",
        "colab": {
          "base_uri": "https://localhost:8080/",
          "height": 332
        },
        "outputId": "b1a13976-965f-4e31-debf-4dbe8a17b5ee"
      },
      "source": [
        "data_table.describe(percentiles=[.25, .75, .90])"
      ],
      "execution_count": null,
      "outputs": [
        {
          "output_type": "execute_result",
          "data": {
            "text/html": [
              "\n",
              "  <div id=\"df-24aba844-c15f-4ccf-beb4-a00132d494bf\">\n",
              "    <div class=\"colab-df-container\">\n",
              "      <div>\n",
              "<style scoped>\n",
              "    .dataframe tbody tr th:only-of-type {\n",
              "        vertical-align: middle;\n",
              "    }\n",
              "\n",
              "    .dataframe tbody tr th {\n",
              "        vertical-align: top;\n",
              "    }\n",
              "\n",
              "    .dataframe thead th {\n",
              "        text-align: right;\n",
              "    }\n",
              "</style>\n",
              "<table border=\"1\" class=\"dataframe\">\n",
              "  <thead>\n",
              "    <tr style=\"text-align: right;\">\n",
              "      <th></th>\n",
              "      <th>Vaccinations</th>\n",
              "      <th>Vaccinated</th>\n",
              "      <th>Fully_Vaccinated</th>\n",
              "      <th>Vaccinations_Ratio</th>\n",
              "      <th>Vaccinated_Ratio</th>\n",
              "      <th>Fully_Vaccinated_Ratio</th>\n",
              "    </tr>\n",
              "  </thead>\n",
              "  <tbody>\n",
              "    <tr>\n",
              "      <th>count</th>\n",
              "      <td>7.702400e+04</td>\n",
              "      <td>7.624600e+04</td>\n",
              "      <td>6.646000e+04</td>\n",
              "      <td>77024.000000</td>\n",
              "      <td>76246.000000</td>\n",
              "      <td>66460.000000</td>\n",
              "    </tr>\n",
              "    <tr>\n",
              "      <th>mean</th>\n",
              "      <td>8.157752e+07</td>\n",
              "      <td>4.455566e+07</td>\n",
              "      <td>3.554191e+07</td>\n",
              "      <td>57.568113</td>\n",
              "      <td>31.914828</td>\n",
              "      <td>27.846082</td>\n",
              "    </tr>\n",
              "    <tr>\n",
              "      <th>std</th>\n",
              "      <td>5.022749e+08</td>\n",
              "      <td>2.673192e+08</td>\n",
              "      <td>2.175850e+08</td>\n",
              "      <td>57.924293</td>\n",
              "      <td>28.286249</td>\n",
              "      <td>26.560425</td>\n",
              "    </tr>\n",
              "    <tr>\n",
              "      <th>min</th>\n",
              "      <td>0.000000e+00</td>\n",
              "      <td>0.000000e+00</td>\n",
              "      <td>1.000000e+00</td>\n",
              "      <td>0.000000</td>\n",
              "      <td>0.000000</td>\n",
              "      <td>0.000000</td>\n",
              "    </tr>\n",
              "    <tr>\n",
              "      <th>25%</th>\n",
              "      <td>1.202908e+05</td>\n",
              "      <td>8.176100e+04</td>\n",
              "      <td>6.400200e+04</td>\n",
              "      <td>5.555000</td>\n",
              "      <td>4.320000</td>\n",
              "      <td>3.130699</td>\n",
              "    </tr>\n",
              "    <tr>\n",
              "      <th>50%</th>\n",
              "      <td>1.125066e+06</td>\n",
              "      <td>7.588487e+05</td>\n",
              "      <td>6.395053e+05</td>\n",
              "      <td>36.725000</td>\n",
              "      <td>25.284286</td>\n",
              "      <td>19.350000</td>\n",
              "    </tr>\n",
              "    <tr>\n",
              "      <th>75%</th>\n",
              "      <td>9.072456e+06</td>\n",
              "      <td>5.126391e+06</td>\n",
              "      <td>4.438239e+06</td>\n",
              "      <td>102.780714</td>\n",
              "      <td>57.923750</td>\n",
              "      <td>50.900714</td>\n",
              "    </tr>\n",
              "    <tr>\n",
              "      <th>90%</th>\n",
              "      <td>5.827816e+07</td>\n",
              "      <td>3.527097e+07</td>\n",
              "      <td>2.901506e+07</td>\n",
              "      <td>143.490000</td>\n",
              "      <td>73.080000</td>\n",
              "      <td>67.690000</td>\n",
              "    </tr>\n",
              "    <tr>\n",
              "      <th>max</th>\n",
              "      <td>9.886535e+09</td>\n",
              "      <td>4.767224e+09</td>\n",
              "      <td>4.096096e+09</td>\n",
              "      <td>327.790000</td>\n",
              "      <td>122.690000</td>\n",
              "      <td>120.700000</td>\n",
              "    </tr>\n",
              "  </tbody>\n",
              "</table>\n",
              "</div>\n",
              "      <button class=\"colab-df-convert\" onclick=\"convertToInteractive('df-24aba844-c15f-4ccf-beb4-a00132d494bf')\"\n",
              "              title=\"Convert this dataframe to an interactive table.\"\n",
              "              style=\"display:none;\">\n",
              "        \n",
              "  <svg xmlns=\"http://www.w3.org/2000/svg\" height=\"24px\"viewBox=\"0 0 24 24\"\n",
              "       width=\"24px\">\n",
              "    <path d=\"M0 0h24v24H0V0z\" fill=\"none\"/>\n",
              "    <path d=\"M18.56 5.44l.94 2.06.94-2.06 2.06-.94-2.06-.94-.94-2.06-.94 2.06-2.06.94zm-11 1L8.5 8.5l.94-2.06 2.06-.94-2.06-.94L8.5 2.5l-.94 2.06-2.06.94zm10 10l.94 2.06.94-2.06 2.06-.94-2.06-.94-.94-2.06-.94 2.06-2.06.94z\"/><path d=\"M17.41 7.96l-1.37-1.37c-.4-.4-.92-.59-1.43-.59-.52 0-1.04.2-1.43.59L10.3 9.45l-7.72 7.72c-.78.78-.78 2.05 0 2.83L4 21.41c.39.39.9.59 1.41.59.51 0 1.02-.2 1.41-.59l7.78-7.78 2.81-2.81c.8-.78.8-2.07 0-2.86zM5.41 20L4 18.59l7.72-7.72 1.47 1.35L5.41 20z\"/>\n",
              "  </svg>\n",
              "      </button>\n",
              "      \n",
              "  <style>\n",
              "    .colab-df-container {\n",
              "      display:flex;\n",
              "      flex-wrap:wrap;\n",
              "      gap: 12px;\n",
              "    }\n",
              "\n",
              "    .colab-df-convert {\n",
              "      background-color: #E8F0FE;\n",
              "      border: none;\n",
              "      border-radius: 50%;\n",
              "      cursor: pointer;\n",
              "      display: none;\n",
              "      fill: #1967D2;\n",
              "      height: 32px;\n",
              "      padding: 0 0 0 0;\n",
              "      width: 32px;\n",
              "    }\n",
              "\n",
              "    .colab-df-convert:hover {\n",
              "      background-color: #E2EBFA;\n",
              "      box-shadow: 0px 1px 2px rgba(60, 64, 67, 0.3), 0px 1px 3px 1px rgba(60, 64, 67, 0.15);\n",
              "      fill: #174EA6;\n",
              "    }\n",
              "\n",
              "    [theme=dark] .colab-df-convert {\n",
              "      background-color: #3B4455;\n",
              "      fill: #D2E3FC;\n",
              "    }\n",
              "\n",
              "    [theme=dark] .colab-df-convert:hover {\n",
              "      background-color: #434B5C;\n",
              "      box-shadow: 0px 1px 3px 1px rgba(0, 0, 0, 0.15);\n",
              "      filter: drop-shadow(0px 1px 2px rgba(0, 0, 0, 0.3));\n",
              "      fill: #FFFFFF;\n",
              "    }\n",
              "  </style>\n",
              "\n",
              "      <script>\n",
              "        const buttonEl =\n",
              "          document.querySelector('#df-24aba844-c15f-4ccf-beb4-a00132d494bf button.colab-df-convert');\n",
              "        buttonEl.style.display =\n",
              "          google.colab.kernel.accessAllowed ? 'block' : 'none';\n",
              "\n",
              "        async function convertToInteractive(key) {\n",
              "          const element = document.querySelector('#df-24aba844-c15f-4ccf-beb4-a00132d494bf');\n",
              "          const dataTable =\n",
              "            await google.colab.kernel.invokeFunction('convertToInteractive',\n",
              "                                                     [key], {});\n",
              "          if (!dataTable) return;\n",
              "\n",
              "          const docLinkHtml = 'Like what you see? Visit the ' +\n",
              "            '<a target=\"_blank\" href=https://colab.research.google.com/notebooks/data_table.ipynb>data table notebook</a>'\n",
              "            + ' to learn more about interactive tables.';\n",
              "          element.innerHTML = '';\n",
              "          dataTable['output_type'] = 'display_data';\n",
              "          await google.colab.output.renderOutput(dataTable, element);\n",
              "          const docLink = document.createElement('div');\n",
              "          docLink.innerHTML = docLinkHtml;\n",
              "          element.appendChild(docLink);\n",
              "        }\n",
              "      </script>\n",
              "    </div>\n",
              "  </div>\n",
              "  "
            ],
            "text/plain": [
              "       Vaccinations    Vaccinated  ...  Vaccinated_Ratio  Fully_Vaccinated_Ratio\n",
              "count  7.702400e+04  7.624600e+04  ...      76246.000000            66460.000000\n",
              "mean   8.157752e+07  4.455566e+07  ...         31.914828               27.846082\n",
              "std    5.022749e+08  2.673192e+08  ...         28.286249               26.560425\n",
              "min    0.000000e+00  0.000000e+00  ...          0.000000                0.000000\n",
              "25%    1.202908e+05  8.176100e+04  ...          4.320000                3.130699\n",
              "50%    1.125066e+06  7.588487e+05  ...         25.284286               19.350000\n",
              "75%    9.072456e+06  5.126391e+06  ...         57.923750               50.900714\n",
              "90%    5.827816e+07  3.527097e+07  ...         73.080000               67.690000\n",
              "max    9.886535e+09  4.767224e+09  ...        122.690000              120.700000\n",
              "\n",
              "[9 rows x 6 columns]"
            ]
          },
          "metadata": {},
          "execution_count": 19
        }
      ]
    },
    {
      "cell_type": "markdown",
      "source": [
        "Vaccinations, %  | \tVaccinated, %  | \tFully_Vaccinated, %: \n",
        "> больше 100% - т.к. несколько доз вакцин\n",
        "\n",
        "> Gibraltar - явно выбивается, у него много значений значительно больше 100 %\n",
        "\n",
        "\n"
      ],
      "metadata": {
        "id": "niRO2zJZHaMG"
      }
    },
    {
      "cell_type": "markdown",
      "source": [
        "## Анализ на пропуски, заполнение пропусков"
      ],
      "metadata": {
        "id": "dz3M84bTSj-7"
      }
    },
    {
      "cell_type": "code",
      "source": [
        "# анализ столбцов на пропуски\n",
        "data_table.isna().any()"
      ],
      "metadata": {
        "colab": {
          "base_uri": "https://localhost:8080/"
        },
        "id": "rwEW-n5QTavB",
        "outputId": "26972e41-00ea-4f37-bb18-831861ebfd63"
      },
      "execution_count": null,
      "outputs": [
        {
          "output_type": "execute_result",
          "data": {
            "text/plain": [
              "Country                   False\n",
              "Date                      False\n",
              "Vaccinations               True\n",
              "Vaccinated                 True\n",
              "Fully_Vaccinated           True\n",
              "Vaccinations_Ratio         True\n",
              "Vaccinated_Ratio           True\n",
              "Fully_Vaccinated_Ratio     True\n",
              "dtype: bool"
            ]
          },
          "metadata": {},
          "execution_count": 10
        }
      ]
    },
    {
      "cell_type": "markdown",
      "source": [
        "во всех столбцах есть пропуски, заменяю их линейной апроксимацией"
      ],
      "metadata": {
        "id": "boskR3SSTj0T"
      }
    },
    {
      "cell_type": "code",
      "metadata": {
        "id": "gQ2teuiej3sA"
      },
      "source": [
        "# всех список стран (континентов) из датасета\n",
        "countries = list(data_table.Country.unique())\n",
        "# print(*countries)"
      ],
      "execution_count": null,
      "outputs": []
    },
    {
      "cell_type": "code",
      "source": [
        "# заполняю пропущенные значения вакцинаций линейной апроксимацией\n",
        "for country in countries:\n",
        "    data_table.loc[data_table['Country'] == country] = \\\n",
        "    data_table.loc[data_table['Country'] == country].interpolate(method='linear')"
      ],
      "metadata": {
        "id": "EXoy_gGGkXV0"
      },
      "execution_count": null,
      "outputs": []
    },
    {
      "cell_type": "code",
      "source": [
        "data_table.head(10)"
      ],
      "metadata": {
        "colab": {
          "base_uri": "https://localhost:8080/",
          "height": 363
        },
        "id": "Z7APvzQiVvGq",
        "outputId": "83f10325-13aa-4407-e1a1-4df6101e5b6f"
      },
      "execution_count": null,
      "outputs": [
        {
          "output_type": "execute_result",
          "data": {
            "text/html": [
              "\n",
              "  <div id=\"df-dbe86245-83cd-4652-9e60-eacc029e9a04\">\n",
              "    <div class=\"colab-df-container\">\n",
              "      <div>\n",
              "<style scoped>\n",
              "    .dataframe tbody tr th:only-of-type {\n",
              "        vertical-align: middle;\n",
              "    }\n",
              "\n",
              "    .dataframe tbody tr th {\n",
              "        vertical-align: top;\n",
              "    }\n",
              "\n",
              "    .dataframe thead th {\n",
              "        text-align: right;\n",
              "    }\n",
              "</style>\n",
              "<table border=\"1\" class=\"dataframe\">\n",
              "  <thead>\n",
              "    <tr style=\"text-align: right;\">\n",
              "      <th></th>\n",
              "      <th>Country</th>\n",
              "      <th>Date</th>\n",
              "      <th>Vaccinations</th>\n",
              "      <th>Vaccinated</th>\n",
              "      <th>Fully_Vaccinated</th>\n",
              "      <th>Vaccinations_Ratio</th>\n",
              "      <th>Vaccinated_Ratio</th>\n",
              "      <th>Fully_Vaccinated_Ratio</th>\n",
              "    </tr>\n",
              "  </thead>\n",
              "  <tbody>\n",
              "    <tr>\n",
              "      <th>0</th>\n",
              "      <td>Afghanistan</td>\n",
              "      <td>2021-02-22</td>\n",
              "      <td>0.000000</td>\n",
              "      <td>0.000000</td>\n",
              "      <td>NaN</td>\n",
              "      <td>0.000000</td>\n",
              "      <td>0.000000</td>\n",
              "      <td>NaN</td>\n",
              "    </tr>\n",
              "    <tr>\n",
              "      <th>1</th>\n",
              "      <td>Afghanistan</td>\n",
              "      <td>2021-02-23</td>\n",
              "      <td>1366.666667</td>\n",
              "      <td>1366.666667</td>\n",
              "      <td>NaN</td>\n",
              "      <td>0.003333</td>\n",
              "      <td>0.003333</td>\n",
              "      <td>NaN</td>\n",
              "    </tr>\n",
              "    <tr>\n",
              "      <th>2</th>\n",
              "      <td>Afghanistan</td>\n",
              "      <td>2021-02-24</td>\n",
              "      <td>2733.333333</td>\n",
              "      <td>2733.333333</td>\n",
              "      <td>NaN</td>\n",
              "      <td>0.006667</td>\n",
              "      <td>0.006667</td>\n",
              "      <td>NaN</td>\n",
              "    </tr>\n",
              "    <tr>\n",
              "      <th>3</th>\n",
              "      <td>Afghanistan</td>\n",
              "      <td>2021-02-25</td>\n",
              "      <td>4100.000000</td>\n",
              "      <td>4100.000000</td>\n",
              "      <td>NaN</td>\n",
              "      <td>0.010000</td>\n",
              "      <td>0.010000</td>\n",
              "      <td>NaN</td>\n",
              "    </tr>\n",
              "    <tr>\n",
              "      <th>4</th>\n",
              "      <td>Afghanistan</td>\n",
              "      <td>2021-02-26</td>\n",
              "      <td>5466.666667</td>\n",
              "      <td>5466.666667</td>\n",
              "      <td>NaN</td>\n",
              "      <td>0.013333</td>\n",
              "      <td>0.013333</td>\n",
              "      <td>NaN</td>\n",
              "    </tr>\n",
              "    <tr>\n",
              "      <th>5</th>\n",
              "      <td>Afghanistan</td>\n",
              "      <td>2021-02-27</td>\n",
              "      <td>6833.333333</td>\n",
              "      <td>6833.333333</td>\n",
              "      <td>NaN</td>\n",
              "      <td>0.016667</td>\n",
              "      <td>0.016667</td>\n",
              "      <td>NaN</td>\n",
              "    </tr>\n",
              "    <tr>\n",
              "      <th>6</th>\n",
              "      <td>Afghanistan</td>\n",
              "      <td>2021-02-28</td>\n",
              "      <td>8200.000000</td>\n",
              "      <td>8200.000000</td>\n",
              "      <td>NaN</td>\n",
              "      <td>0.020000</td>\n",
              "      <td>0.020000</td>\n",
              "      <td>NaN</td>\n",
              "    </tr>\n",
              "    <tr>\n",
              "      <th>7</th>\n",
              "      <td>Afghanistan</td>\n",
              "      <td>2021-03-01</td>\n",
              "      <td>11062.500000</td>\n",
              "      <td>11062.500000</td>\n",
              "      <td>NaN</td>\n",
              "      <td>0.027500</td>\n",
              "      <td>0.027500</td>\n",
              "      <td>NaN</td>\n",
              "    </tr>\n",
              "    <tr>\n",
              "      <th>8</th>\n",
              "      <td>Afghanistan</td>\n",
              "      <td>2021-03-02</td>\n",
              "      <td>13925.000000</td>\n",
              "      <td>13925.000000</td>\n",
              "      <td>NaN</td>\n",
              "      <td>0.035000</td>\n",
              "      <td>0.035000</td>\n",
              "      <td>NaN</td>\n",
              "    </tr>\n",
              "    <tr>\n",
              "      <th>9</th>\n",
              "      <td>Afghanistan</td>\n",
              "      <td>2021-03-03</td>\n",
              "      <td>16787.500000</td>\n",
              "      <td>16787.500000</td>\n",
              "      <td>NaN</td>\n",
              "      <td>0.042500</td>\n",
              "      <td>0.042500</td>\n",
              "      <td>NaN</td>\n",
              "    </tr>\n",
              "  </tbody>\n",
              "</table>\n",
              "</div>\n",
              "      <button class=\"colab-df-convert\" onclick=\"convertToInteractive('df-dbe86245-83cd-4652-9e60-eacc029e9a04')\"\n",
              "              title=\"Convert this dataframe to an interactive table.\"\n",
              "              style=\"display:none;\">\n",
              "        \n",
              "  <svg xmlns=\"http://www.w3.org/2000/svg\" height=\"24px\"viewBox=\"0 0 24 24\"\n",
              "       width=\"24px\">\n",
              "    <path d=\"M0 0h24v24H0V0z\" fill=\"none\"/>\n",
              "    <path d=\"M18.56 5.44l.94 2.06.94-2.06 2.06-.94-2.06-.94-.94-2.06-.94 2.06-2.06.94zm-11 1L8.5 8.5l.94-2.06 2.06-.94-2.06-.94L8.5 2.5l-.94 2.06-2.06.94zm10 10l.94 2.06.94-2.06 2.06-.94-2.06-.94-.94-2.06-.94 2.06-2.06.94z\"/><path d=\"M17.41 7.96l-1.37-1.37c-.4-.4-.92-.59-1.43-.59-.52 0-1.04.2-1.43.59L10.3 9.45l-7.72 7.72c-.78.78-.78 2.05 0 2.83L4 21.41c.39.39.9.59 1.41.59.51 0 1.02-.2 1.41-.59l7.78-7.78 2.81-2.81c.8-.78.8-2.07 0-2.86zM5.41 20L4 18.59l7.72-7.72 1.47 1.35L5.41 20z\"/>\n",
              "  </svg>\n",
              "      </button>\n",
              "      \n",
              "  <style>\n",
              "    .colab-df-container {\n",
              "      display:flex;\n",
              "      flex-wrap:wrap;\n",
              "      gap: 12px;\n",
              "    }\n",
              "\n",
              "    .colab-df-convert {\n",
              "      background-color: #E8F0FE;\n",
              "      border: none;\n",
              "      border-radius: 50%;\n",
              "      cursor: pointer;\n",
              "      display: none;\n",
              "      fill: #1967D2;\n",
              "      height: 32px;\n",
              "      padding: 0 0 0 0;\n",
              "      width: 32px;\n",
              "    }\n",
              "\n",
              "    .colab-df-convert:hover {\n",
              "      background-color: #E2EBFA;\n",
              "      box-shadow: 0px 1px 2px rgba(60, 64, 67, 0.3), 0px 1px 3px 1px rgba(60, 64, 67, 0.15);\n",
              "      fill: #174EA6;\n",
              "    }\n",
              "\n",
              "    [theme=dark] .colab-df-convert {\n",
              "      background-color: #3B4455;\n",
              "      fill: #D2E3FC;\n",
              "    }\n",
              "\n",
              "    [theme=dark] .colab-df-convert:hover {\n",
              "      background-color: #434B5C;\n",
              "      box-shadow: 0px 1px 3px 1px rgba(0, 0, 0, 0.15);\n",
              "      filter: drop-shadow(0px 1px 2px rgba(0, 0, 0, 0.3));\n",
              "      fill: #FFFFFF;\n",
              "    }\n",
              "  </style>\n",
              "\n",
              "      <script>\n",
              "        const buttonEl =\n",
              "          document.querySelector('#df-dbe86245-83cd-4652-9e60-eacc029e9a04 button.colab-df-convert');\n",
              "        buttonEl.style.display =\n",
              "          google.colab.kernel.accessAllowed ? 'block' : 'none';\n",
              "\n",
              "        async function convertToInteractive(key) {\n",
              "          const element = document.querySelector('#df-dbe86245-83cd-4652-9e60-eacc029e9a04');\n",
              "          const dataTable =\n",
              "            await google.colab.kernel.invokeFunction('convertToInteractive',\n",
              "                                                     [key], {});\n",
              "          if (!dataTable) return;\n",
              "\n",
              "          const docLinkHtml = 'Like what you see? Visit the ' +\n",
              "            '<a target=\"_blank\" href=https://colab.research.google.com/notebooks/data_table.ipynb>data table notebook</a>'\n",
              "            + ' to learn more about interactive tables.';\n",
              "          element.innerHTML = '';\n",
              "          dataTable['output_type'] = 'display_data';\n",
              "          await google.colab.output.renderOutput(dataTable, element);\n",
              "          const docLink = document.createElement('div');\n",
              "          docLink.innerHTML = docLinkHtml;\n",
              "          element.appendChild(docLink);\n",
              "        }\n",
              "      </script>\n",
              "    </div>\n",
              "  </div>\n",
              "  "
            ],
            "text/plain": [
              "       Country        Date  ...  Vaccinated_Ratio  Fully_Vaccinated_Ratio\n",
              "0  Afghanistan  2021-02-22  ...          0.000000                     NaN\n",
              "1  Afghanistan  2021-02-23  ...          0.003333                     NaN\n",
              "2  Afghanistan  2021-02-24  ...          0.006667                     NaN\n",
              "3  Afghanistan  2021-02-25  ...          0.010000                     NaN\n",
              "4  Afghanistan  2021-02-26  ...          0.013333                     NaN\n",
              "5  Afghanistan  2021-02-27  ...          0.016667                     NaN\n",
              "6  Afghanistan  2021-02-28  ...          0.020000                     NaN\n",
              "7  Afghanistan  2021-03-01  ...          0.027500                     NaN\n",
              "8  Afghanistan  2021-03-02  ...          0.035000                     NaN\n",
              "9  Afghanistan  2021-03-03  ...          0.042500                     NaN\n",
              "\n",
              "[10 rows x 8 columns]"
            ]
          },
          "metadata": {},
          "execution_count": 13
        }
      ]
    },
    {
      "cell_type": "markdown",
      "source": [
        "промежуточные пропуски заполнены линейной интерполяцией. Остались лишь те NaN, которые были в самом начале или конце - их нельзя заменить"
      ],
      "metadata": {
        "id": "YEdyUACaXnhH"
      }
    },
    {
      "cell_type": "markdown",
      "metadata": {
        "id": "64nU-u5E9WjD"
      },
      "source": [
        "## Графики"
      ]
    },
    {
      "cell_type": "code",
      "source": [
        "#  Список всех стран и континентов\n",
        "print(*countries)"
      ],
      "metadata": {
        "colab": {
          "base_uri": "https://localhost:8080/"
        },
        "id": "BLTNmeWSl_Gw",
        "outputId": "907369f5-5d08-4276-bc3e-05c98c1686b4"
      },
      "execution_count": null,
      "outputs": [
        {
          "output_type": "stream",
          "name": "stdout",
          "text": [
            "Afghanistan Africa Albania Algeria Andorra Angola Anguilla Antigua and Barbuda Argentina Armenia Aruba Asia Australia Austria Azerbaijan Bahamas Bahrain Bangladesh Barbados Belarus Belgium Belize Benin Bermuda Bhutan Bolivia Bonaire Sint Eustatius and Saba Bosnia and Herzegovina Botswana Brazil British Virgin Islands Brunei Bulgaria Burkina Faso Burundi Cambodia Cameroon Canada Cape Verde Cayman Islands Central African Republic Chad Chile China Colombia Comoros Congo Cook Islands Costa Rica Cote d'Ivoire Croatia Cuba Curacao Cyprus Czechia Democratic Republic of Congo Denmark Djibouti Dominica Dominican Republic Ecuador Egypt El Salvador England Equatorial Guinea Estonia Eswatini Ethiopia Europe European Union Faeroe Islands Falkland Islands Fiji Finland France French Polynesia Gabon Gambia Georgia Germany Ghana Gibraltar Greece Greenland Grenada Guatemala Guernsey Guinea Guinea-Bissau Guyana Haiti High income Honduras Hong Kong Hungary Iceland India Indonesia Iran Iraq Ireland Isle of Man Israel Italy Jamaica Japan Jersey Jordan Kazakhstan Kenya Kiribati Kosovo Kuwait Kyrgyzstan Laos Latvia Lebanon Lesotho Liberia Libya Liechtenstein Lithuania Low income Lower middle income Luxembourg Macao Madagascar Malawi Malaysia Maldives Mali Malta Mauritania Mauritius Mexico Moldova Monaco Mongolia Montenegro Montserrat Morocco Mozambique Myanmar Namibia Nauru Nepal Netherlands New Caledonia New Zealand Nicaragua Niger Nigeria Niue North America North Macedonia Northern Cyprus Northern Ireland Norway Oceania Oman Pakistan Palestine Panama Papua New Guinea Paraguay Peru Philippines Pitcairn Poland Portugal Qatar Romania Russia Rwanda Saint Helena Saint Kitts and Nevis Saint Lucia Saint Vincent and the Grenadines Samoa San Marino Sao Tome and Principe Saudi Arabia Scotland Senegal Serbia Seychelles Sierra Leone Singapore Sint Maarten (Dutch part) Slovakia Slovenia Solomon Islands Somalia South Africa South America South Korea South Sudan Spain Sri Lanka Sudan Suriname Sweden Switzerland Syria Taiwan Tajikistan Tanzania Thailand Timor Togo Tokelau Tonga Trinidad and Tobago Tunisia Turkey Turkmenistan Turks and Caicos Islands Tuvalu Uganda Ukraine United Arab Emirates United Kingdom United States Upper middle income Uruguay Uzbekistan Vanuatu Venezuela Vietnam Wales Wallis and Futuna World Yemen Zambia Zimbabwe\n"
          ]
        }
      ]
    },
    {
      "cell_type": "code",
      "source": [
        "# список месяцев в году\n",
        "months = ['январь', 'февраль', 'март', 'апрель', 'май', 'июнь', 'июль', 'август', 'сентябрь', 'октябрь', 'ноябрь', 'декабрь'] "
      ],
      "metadata": {
        "id": "MXVUmrAd1JMv"
      },
      "execution_count": null,
      "outputs": []
    },
    {
      "cell_type": "markdown",
      "source": [
        "Можно ввести название любой страны или континента и посмотреть количество проведенных вакцинаций"
      ],
      "metadata": {
        "id": "GszObuYb2zaW"
      }
    },
    {
      "cell_type": "code",
      "metadata": {
        "id": "hCqmE83qUa7F",
        "colab": {
          "base_uri": "https://localhost:8080/",
          "height": 325
        },
        "outputId": "1e5ae004-12f3-41b7-8984-ceeefb14e3e0"
      },
      "source": [
        "country = input('Введите название страны: ')\n",
        "\n",
        "x = list(data_table[data_table['Country'] == country].Date)\n",
        "y = data_table[data_table['Country'] == country].Vaccinations\n",
        "\n",
        "f1 = plt.figure(1)\n",
        "\n",
        "plt.title(f'Vaccinations in {country}')\n",
        "plt.xlabel('Месяц')\n",
        "plt.ylabel('Количество вакцинаций')\n",
        "\n",
        "# Выбираю отметки для дат - середины месяцев - 15ые числа\n",
        "tick_values = [index for index,value in enumerate(x) if '-15' in value]\n",
        "# Сопоставляю названия месяцев для этих дат\n",
        "tick_names = []\n",
        "for i in tick_values:\n",
        "    tick_names.append(months[int(str(x[i])[5:7])-1]) \n",
        "tick_names_new = [elem[:3] for elem in tick_names]\n",
        "\n",
        "plt.xticks(tick_values, tick_names_new, rotation =45, color='grey')\n",
        "plt.yticks(color='grey')\n",
        "\n",
        "\n",
        "plt.plot(x, y, linewidth=2, color='green')  \n",
        "f1.show()"
      ],
      "execution_count": null,
      "outputs": [
        {
          "name": "stdout",
          "output_type": "stream",
          "text": [
            "Введите название страны: Finland\n"
          ]
        },
        {
          "output_type": "display_data",
          "data": {
            "image/png": "[encoded data removed]",
            "text/plain": [
              "<Figure size 432x288 with 1 Axes>"
            ]
          },
          "metadata": {
            "needs_background": "dark"
          }
        }
      ]
    },
    {
      "cell_type": "markdown",
      "source": [
        "## Предикция конца вакцинаций по континентам"
      ],
      "metadata": {
        "id": "1FfCaH044KjS"
      }
    },
    {
      "cell_type": "code",
      "source": [
        "country = input('Введите название одного из континетов (South America, North America, Europe, Asia, Australia, Africa): ')\n",
        "\n",
        "x = list(data_table[data_table['Country'] == country].Date)\n",
        "y = data_table[data_table['Country'] == country].Fully_Vaccinated_Ratio\n",
        "\n",
        "f1 = plt.figure(1)\n",
        "\n",
        "plt.title(f'Vaccinations in {country}')\n",
        "plt.xlabel('Месяц')\n",
        "plt.ylabel('Доля полностью вакцинированных, %')\n",
        "\n",
        "# Выбираю отметки для дат - середины месяцев - 15ые числа\n",
        "tick_values = [index for index,value in enumerate(x) if '-15' in value]\n",
        "# Сопоставляю названия месяцев для этих дат\n",
        "tick_names = []\n",
        "for i in tick_values:\n",
        "    tick_names.append(months[int(str(x[i])[5:7])-1]) \n",
        "tick_names_new = [elem[:3] for elem in tick_names]\n",
        "\n",
        "plt.xticks(tick_values, tick_names_new, rotation =45, color='grey')\n",
        "plt.yticks(color='grey')\n",
        "\n",
        "\n",
        "plt.plot(x, y, linewidth=2, color='green')  \n",
        "f1.show()\n",
        "\n",
        "'''________________________________________________________________'''\n",
        "\n",
        "# выбираю конечный линейный интервал графика\n",
        "\n",
        "x = list(data_table[data_table['Country'] == country].Date)\n",
        "x = x[int(len(x)*3/4):]\n",
        "\n",
        "y = data_table[data_table['Country'] == country].Fully_Vaccinated_Ratio\n",
        "y = y[int(len(y)*3/4):]\n",
        "\n",
        "f2 = plt.figure(2)\n",
        "\n",
        "plt.title(f'Vaccinations in {country}')\n",
        "plt.xlabel('Месяц')\n",
        "plt.ylabel('Доля полностью вакцинированных, %')\n",
        "\n",
        "\n",
        "# Выбираю отметки для дат - середины месяцев - 15ые числа\n",
        "tick_values = [index for index,value in enumerate(x) if '-15' in value]\n",
        "# Сопоставляю названия месяцев для этих дат\n",
        "tick_names = []\n",
        "for i in tick_values:\n",
        "    tick_names.append(months[int(str(x[i])[5:7])-1]) \n",
        "tick_names_new = [elem[:3] for elem in tick_names]\n",
        "\n",
        "first_day = x[0]\n",
        "x = range(len(x))\n",
        "\n",
        "plt.xticks(tick_values, tick_names_new, rotation =45, color='grey')\n",
        "plt.yticks(color='grey')\n",
        "\n",
        "approximation = sps.linregress(x,y)\n",
        "plt.plot(x, approximation.intercept + approximation.slope*x, 'r', linewidth=3, label='fitted line')\n",
        "\n",
        "plt.plot(x, y, linewidth=3, color='green', label='raw data')  \n",
        "plt.legend()\n",
        "f2.show()\n",
        "\n",
        "'''____________________________________________________________________________'''\n",
        "\n",
        "# рассчитываю день окончания вакцинации\n",
        "# y = k * x + b\n",
        "k = approximation.slope\n",
        "b = approximation.intercept\n",
        "\n",
        "days_left = (100.0 - b)/k             # через сколько дней все провакцинируются\n",
        "final_day = datetime.strptime(first_day, '%Y-%m-%d') + timedelta(days=days_left)\n",
        "final_day = datetime.date(final_day)  # дата, когда все провакцинируются\n",
        "\n",
        "print(f'День окончания вакцинации: {final_day}')"
      ],
      "metadata": {
        "colab": {
          "base_uri": "https://localhost:8080/",
          "height": 632
        },
        "id": "M4lGk5oo17SF",
        "outputId": "4cc672ec-36a2-4386-ae09-4ffdfde7ab7e"
      },
      "execution_count": null,
      "outputs": [
        {
          "output_type": "stream",
          "name": "stdout",
          "text": [
            "Введите название одного из континетов (South America, North America, Europe, Asia, Australia, Africa): Asia\n",
            "День окончания вакцинации: 2022-07-29\n"
          ]
        },
        {
          "output_type": "display_data",
          "data": {
            "image/png": "[encoded data removed]",
            "text/plain": [
              "<Figure size 432x288 with 1 Axes>"
            ]
          },
          "metadata": {
            "needs_background": "dark"
          }
        },
        {
          "output_type": "display_data",
          "data": {
            "image/png": "[encoded data removed]",
            "text/plain": [
              "<Figure size 432x288 with 1 Axes>"
            ]
          },
          "metadata": {
            "needs_background": "dark"
          }
        }
      ]
    },
    {
      "cell_type": "code",
      "source": [
        ""
      ],
      "metadata": {
        "id": "qb565_l1YYhh"
      },
      "execution_count": null,
      "outputs": []
    }
  ]
}